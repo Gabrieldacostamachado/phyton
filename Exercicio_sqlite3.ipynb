{
  "nbformat": 4,
  "nbformat_minor": 0,
  "metadata": {
    "colab": {
      "provenance": [],
      "authorship_tag": "ABX9TyMOEWGy6ox8enK1E1NpinwF",
      "include_colab_link": true
    },
    "kernelspec": {
      "name": "python3",
      "display_name": "Python 3"
    },
    "language_info": {
      "name": "python"
    }
  },
  "cells": [
    {
      "cell_type": "markdown",
      "metadata": {
        "id": "view-in-github",
        "colab_type": "text"
      },
      "source": [
        "<a href=\"https://colab.research.google.com/github/Gabrieldacostamachado/phyton/blob/main/Exercicio_sqlite3.ipynb\" target=\"_parent\"><img src=\"https://colab.research.google.com/assets/colab-badge.svg\" alt=\"Open In Colab\"/></a>"
      ]
    },
    {
      "cell_type": "code",
      "execution_count": 2,
      "metadata": {
        "id": "1v5D3eb71QNY"
      },
      "outputs": [],
      "source": [
        "#Exercicio\n",
        "#Crie uma tabela de contatos para a empresa que você trabalha, com as informações: nome, e-mail e numero de telefone\n",
        "\n",
        "import sqlite3\n",
        "conn = sqlite3.connect('contatos.db')\n",
        "cursor = conn.cursor()\n",
        "cursor.execute(\"\"\"\n",
        "    CREATE TABLE IF NOT EXISTS Contatos (\n",
        "        id INTEGER PRIMARY KEY AUTOINCREMENT,\n",
        "        nome TEXT,\n",
        "        email TEXT,\n",
        "        telefone TEXT\n",
        "    )\n",
        "\n",
        "\n",
        "\"\"\")\n",
        "dados_exemplo = [\n",
        "    (\"João\", \"joaodasilva@gmail.com\", \"5199945-3223\"),\n",
        "    (\"Gabriel\", \"gabrieldacostamachado@gmail.com\", \"5199959-4049\"),\n",
        "    (\"Alice\", \"alicegoerck@gmail.com\", \"5199945-3443\")\n",
        "]\n",
        "cursor.executemany('INSERT INTO Contatos (nome, email, telefone) VALUES (?, ?, ?)', dados_exemplo)\n",
        "conn.commit()\n"
      ]
    },
    {
      "cell_type": "code",
      "source": [
        "#Read leitura da tabela com os contatos adicionados\n",
        "\n",
        "#Visualizar os produtos da tabela Atualizado\n",
        "# Conectando banco de dados\n",
        "conn = sqlite3.connect('contatos.db')\n",
        "cursor = conn.cursor()\n",
        "#Comando sql para selecionar todos os produtos o * significa que quero ver todos os produtos da tabela\n",
        "cursor.execute(\"SELECT * FROM Contatos\")\n",
        "Contatos = cursor.fetchall()\n",
        "print(Contatos)\n",
        "for contato in Contatos:\n",
        "    print(contato)\n",
        "#Fechando conexão\n",
        "conn.close()\n"
      ],
      "metadata": {
        "colab": {
          "base_uri": "https://localhost:8080/"
        },
        "id": "v-XNgeo21iKX",
        "outputId": "93bc32de-261b-41b7-d37e-012b5b327122"
      },
      "execution_count": 7,
      "outputs": [
        {
          "output_type": "stream",
          "name": "stdout",
          "text": [
            "[(1, 'João', 'joaodasilva@gmail.com', '5199945-3223'), (2, 'Gabriel', 'gabrieldacostamachado@gmail.com', '5199959-4049'), (3, 'Alice', 'alicegoerck@gmail.com', '5199945-3443'), (4, 'João', 'joaodasilva@gmail.com', '5199945-3223'), (5, 'Gabriel', 'gabrieldacostamachado@gmail.com', '5199959-4049'), (6, 'Alice', 'alicegoerck@gmail.com', '5199945-3443')]\n",
            "(1, 'João', 'joaodasilva@gmail.com', '5199945-3223')\n",
            "(2, 'Gabriel', 'gabrieldacostamachado@gmail.com', '5199959-4049')\n",
            "(3, 'Alice', 'alicegoerck@gmail.com', '5199945-3443')\n",
            "(4, 'João', 'joaodasilva@gmail.com', '5199945-3223')\n",
            "(5, 'Gabriel', 'gabrieldacostamachado@gmail.com', '5199959-4049')\n",
            "(6, 'Alice', 'alicegoerck@gmail.com', '5199945-3443')\n"
          ]
        }
      ]
    },
    {
      "cell_type": "code",
      "source": [
        "#Update Atualização de numero de telefone\n",
        "import sqlite3\n",
        "conn = sqlite3.connect('contatos.db')\n",
        "cursor = conn.cursor()\n",
        "novo_telefone = '345-987-1209'\n",
        "contato_id = 1\n",
        "cursor.execute('UPDATE Contatos SET telefone = ? WHERE id = ?', (novo_telefone, contato_id))\n",
        "conn.commit()"
      ],
      "metadata": {
        "id": "gJlsob0G133H"
      },
      "execution_count": 8,
      "outputs": []
    },
    {
      "cell_type": "code",
      "source": [
        "#Excluindo contatos com id 4,5 e 6\n",
        "import sqlite3\n",
        "conn = sqlite3.connect('contatos.db')\n",
        "cursor = conn.cursor()\n",
        "contato_id_para_excluir = 6\n",
        "cursor.execute('DELETE FROM Contatos WHERE id = ?', (contato_id_para_excluir,))\n",
        "conn.commit()\n",
        "conn.close()"
      ],
      "metadata": {
        "id": "EZJpxHd-3zOI"
      },
      "execution_count": 12,
      "outputs": []
    },
    {
      "cell_type": "code",
      "source": [
        "conn = sqlite3.connect('contatos.db')\n",
        "cursor = conn.cursor()\n",
        "#Comando sql para selecionar todos os produtos o * significa que quero ver todos os produtos da tabela\n",
        "cursor.execute(\"SELECT * FROM Contatos\")\n",
        "Contatos = cursor.fetchall()\n",
        "print(Contatos)\n",
        "for contato in Contatos:\n",
        "    print(contato)\n",
        "#Fechando conexão\n",
        "conn.close()"
      ],
      "metadata": {
        "colab": {
          "base_uri": "https://localhost:8080/"
        },
        "id": "z8VrpG2_4Y7e",
        "outputId": "f879068c-c8f0-4a0f-a5b4-f55a28e92b5d"
      },
      "execution_count": 13,
      "outputs": [
        {
          "output_type": "stream",
          "name": "stdout",
          "text": [
            "[(1, 'João', 'joaodasilva@gmail.com', '345-987-1209'), (2, 'Gabriel', 'gabrieldacostamachado@gmail.com', '5199959-4049'), (3, 'Alice', 'alicegoerck@gmail.com', '5199945-3443')]\n",
            "(1, 'João', 'joaodasilva@gmail.com', '345-987-1209')\n",
            "(2, 'Gabriel', 'gabrieldacostamachado@gmail.com', '5199959-4049')\n",
            "(3, 'Alice', 'alicegoerck@gmail.com', '5199945-3443')\n"
          ]
        }
      ]
    },
    {
      "cell_type": "code",
      "source": [],
      "metadata": {
        "id": "oe7q3beE4tiU"
      },
      "execution_count": null,
      "outputs": []
    }
  ]
}