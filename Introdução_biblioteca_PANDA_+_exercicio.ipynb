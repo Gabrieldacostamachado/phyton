{
  "nbformat": 4,
  "nbformat_minor": 0,
  "metadata": {
    "colab": {
      "provenance": [],
      "authorship_tag": "ABX9TyPAxxz1O+n6bBCl4AssZzNJ",
      "include_colab_link": true
    },
    "kernelspec": {
      "name": "python3",
      "display_name": "Python 3"
    },
    "language_info": {
      "name": "python"
    }
  },
  "cells": [
    {
      "cell_type": "markdown",
      "metadata": {
        "id": "view-in-github",
        "colab_type": "text"
      },
      "source": [
        "<a href=\"https://colab.research.google.com/github/Gabrieldacostamachado/phyton/blob/main/Introdu%C3%A7%C3%A3o_biblioteca_PANDA_%2B_exercicio.ipynb\" target=\"_parent\"><img src=\"https://colab.research.google.com/assets/colab-badge.svg\" alt=\"Open In Colab\"/></a>"
      ]
    },
    {
      "cell_type": "code",
      "execution_count": 6,
      "metadata": {
        "colab": {
          "base_uri": "https://localhost:8080/",
          "height": 0
        },
        "id": "jVFBNnH0lKX8",
        "outputId": "bb68f96c-3a6d-44df-97af-72c7b587b91c"
      },
      "outputs": [
        {
          "output_type": "stream",
          "name": "stdout",
          "text": [
            "0    10\n",
            "1    20\n",
            "2    30\n",
            "3    40\n",
            "4    50\n",
            "dtype: int64\n",
            "[10, 20, 30, 40, 50]\n"
          ]
        }
      ],
      "source": [
        "#Importando o banco de dados panda\n",
        "import pandas as pd #pd é o nome que damos para chamar o pandas\n",
        "#Criando uma lista #Listas sempre entre []\n",
        "exemplo1 = [10, 20, 30, 40, 50]\n",
        "\n",
        "#Criando uma Series a partir da lista\n",
        "series1 = pd.Series(data = exemplo1) #data é um paremetro, que vai virar a Series exemplo1\n",
        "\n",
        "print(series1)\n",
        "print(exemplo1) # Só para ver visualmente, que ele aparece como lista, no series1, aparece como uma serie\n",
        "#O Indice no python sempre começa do 0"
      ]
    },
    {
      "cell_type": "code",
      "source": [
        "# Criando uma Sere através de um dicionario\n",
        "\n",
        "import pandas as pd\n",
        "\n",
        "#Crindo um dicionario com pares chave-valor\n",
        "exemplo2 = {'A': 100, 'B': 200, 'C': 300, 'D': 400, 'E': 500}\n",
        "\n",
        "#Criando uma Series a partir do dicionario\n",
        "series2 = pd.Series(data = exemplo2)\n",
        "\n",
        "print(series2)\n",
        "print(exemplo2) #Só para visualização, de como fica como lista\n",
        "\n"
      ],
      "metadata": {
        "colab": {
          "base_uri": "https://localhost:8080/",
          "height": 0
        },
        "id": "nHZA0KjBlrTL",
        "outputId": "7882a947-f87a-4ea0-c7bf-d3507717cc98"
      },
      "execution_count": 8,
      "outputs": [
        {
          "output_type": "stream",
          "name": "stdout",
          "text": [
            "A    100\n",
            "B    200\n",
            "C    300\n",
            "D    400\n",
            "E    500\n",
            "dtype: int64\n",
            "{'A': 100, 'B': 200, 'C': 300, 'D': 400, 'E': 500}\n"
          ]
        }
      ]
    },
    {
      "cell_type": "code",
      "source": [
        "import pandas as pd\n",
        "\n",
        "#Importando uma url para exportar a tabela do site\n",
        "\n",
        "url = 'https://www.fdic.gov/bank-failures/failed-bank-list'\n",
        "\n",
        "dfs = pd.read_html(url) #dfs foi o nome que demos para essa ação, pode ser dado qualquer nome, url foi o nome atribuido para a ação anterior\n",
        "\n",
        "print(type(dfs)) #Solicitando a impressão informando o type (Tipo de objeto) do dfs ( Vai apresentar como class list, pois saiu como uma lista)\n",
        "print(len(dfs))# Vai informar 1, pois ainda tem apenas 1 tamanho, é uma lista de dataframe com varias tabelas\n"
      ],
      "metadata": {
        "colab": {
          "base_uri": "https://localhost:8080/",
          "height": 0
        },
        "id": "m5SBVzqunJYB",
        "outputId": "27784e91-5595-47c3-e178-299b467435ed"
      },
      "execution_count": 9,
      "outputs": [
        {
          "output_type": "stream",
          "name": "stdout",
          "text": [
            "<class 'list'>\n",
            "1\n"
          ]
        }
      ]
    },
    {
      "cell_type": "code",
      "source": [
        "df_bancos = dfs[0] #Vamos criar o df_bancos na posição 1, que sempre sera indicada como 0, pois inicia em 0. estamos transformando a 1 linha em um dataframe\n"
      ],
      "metadata": {
        "id": "x51BynxYq9q-"
      },
      "execution_count": 10,
      "outputs": []
    },
    {
      "cell_type": "code",
      "source": [
        "print(df_bancos.shape) #Vai informar quantas linhas e quantas colunas tem"
      ],
      "metadata": {
        "colab": {
          "base_uri": "https://localhost:8080/",
          "height": 0
        },
        "id": "OuqvA2tErYT4",
        "outputId": "69f234b6-4eed-4acd-d182-f5eb78406def"
      },
      "execution_count": 11,
      "outputs": [
        {
          "output_type": "stream",
          "name": "stdout",
          "text": [
            "(10, 7)\n"
          ]
        }
      ]
    },
    {
      "cell_type": "code",
      "source": [
        "print(df_bancos.dtypes) # agora podemos verificar os tipos de colunas do nosso dataframe (Object = objeto, int64 = inteiro)"
      ],
      "metadata": {
        "colab": {
          "base_uri": "https://localhost:8080/",
          "height": 0
        },
        "id": "zEqkaNcArfqy",
        "outputId": "4143c042-0862-4eb6-93f2-e38c310244ea"
      },
      "execution_count": 12,
      "outputs": [
        {
          "output_type": "stream",
          "name": "stdout",
          "text": [
            "Bank Name               object\n",
            "City                    object\n",
            "State                   object\n",
            "Cert                     int64\n",
            "Aquiring Institution    object\n",
            "Closing Date            object\n",
            "Fund                     int64\n",
            "dtype: object\n"
          ]
        }
      ]
    },
    {
      "cell_type": "code",
      "source": [
        "df_bancos.head() # com esse código, podemos ver a planilha, o pandas coloca o indice automatico, 0,1,2,3,4...."
      ],
      "metadata": {
        "colab": {
          "base_uri": "https://localhost:8080/",
          "height": 206
        },
        "id": "h-t5eg4pr3XD",
        "outputId": "3d9bdbcd-7ea5-4fa6-eff6-8922a32820eb"
      },
      "execution_count": 13,
      "outputs": [
        {
          "output_type": "execute_result",
          "data": {
            "text/plain": [
              "                               Bank Name           City         State   Cert  \\\n",
              "0  Republic First Bank dba Republic Bank   Philadelphia  Pennsylvania  27332   \n",
              "1                          Citizens Bank       Sac City          Iowa   8758   \n",
              "2               Heartland Tri-State Bank        Elkhart        Kansas  25851   \n",
              "3                    First Republic Bank  San Francisco    California  59017   \n",
              "4                         Signature Bank       New York      New York  57053   \n",
              "\n",
              "                Aquiring Institution      Closing Date   Fund  \n",
              "0  Fulton Bank, National Association    April 26, 2024  10546  \n",
              "1          Iowa Trust & Savings Bank  November 3, 2023  10545  \n",
              "2             Dream First Bank, N.A.     July 28, 2023  10544  \n",
              "3          JPMorgan Chase Bank, N.A.       May 1, 2023  10543  \n",
              "4                Flagstar Bank, N.A.    March 12, 2023  10540  "
            ],
            "text/html": [
              "\n",
              "  <div id=\"df-e240e535-0d59-4b47-8035-8357115d27c3\" class=\"colab-df-container\">\n",
              "    <div>\n",
              "<style scoped>\n",
              "    .dataframe tbody tr th:only-of-type {\n",
              "        vertical-align: middle;\n",
              "    }\n",
              "\n",
              "    .dataframe tbody tr th {\n",
              "        vertical-align: top;\n",
              "    }\n",
              "\n",
              "    .dataframe thead th {\n",
              "        text-align: right;\n",
              "    }\n",
              "</style>\n",
              "<table border=\"1\" class=\"dataframe\">\n",
              "  <thead>\n",
              "    <tr style=\"text-align: right;\">\n",
              "      <th></th>\n",
              "      <th>Bank Name</th>\n",
              "      <th>City</th>\n",
              "      <th>State</th>\n",
              "      <th>Cert</th>\n",
              "      <th>Aquiring Institution</th>\n",
              "      <th>Closing Date</th>\n",
              "      <th>Fund</th>\n",
              "    </tr>\n",
              "  </thead>\n",
              "  <tbody>\n",
              "    <tr>\n",
              "      <th>0</th>\n",
              "      <td>Republic First Bank dba Republic Bank</td>\n",
              "      <td>Philadelphia</td>\n",
              "      <td>Pennsylvania</td>\n",
              "      <td>27332</td>\n",
              "      <td>Fulton Bank, National Association</td>\n",
              "      <td>April 26, 2024</td>\n",
              "      <td>10546</td>\n",
              "    </tr>\n",
              "    <tr>\n",
              "      <th>1</th>\n",
              "      <td>Citizens Bank</td>\n",
              "      <td>Sac City</td>\n",
              "      <td>Iowa</td>\n",
              "      <td>8758</td>\n",
              "      <td>Iowa Trust &amp; Savings Bank</td>\n",
              "      <td>November 3, 2023</td>\n",
              "      <td>10545</td>\n",
              "    </tr>\n",
              "    <tr>\n",
              "      <th>2</th>\n",
              "      <td>Heartland Tri-State Bank</td>\n",
              "      <td>Elkhart</td>\n",
              "      <td>Kansas</td>\n",
              "      <td>25851</td>\n",
              "      <td>Dream First Bank, N.A.</td>\n",
              "      <td>July 28, 2023</td>\n",
              "      <td>10544</td>\n",
              "    </tr>\n",
              "    <tr>\n",
              "      <th>3</th>\n",
              "      <td>First Republic Bank</td>\n",
              "      <td>San Francisco</td>\n",
              "      <td>California</td>\n",
              "      <td>59017</td>\n",
              "      <td>JPMorgan Chase Bank, N.A.</td>\n",
              "      <td>May 1, 2023</td>\n",
              "      <td>10543</td>\n",
              "    </tr>\n",
              "    <tr>\n",
              "      <th>4</th>\n",
              "      <td>Signature Bank</td>\n",
              "      <td>New York</td>\n",
              "      <td>New York</td>\n",
              "      <td>57053</td>\n",
              "      <td>Flagstar Bank, N.A.</td>\n",
              "      <td>March 12, 2023</td>\n",
              "      <td>10540</td>\n",
              "    </tr>\n",
              "  </tbody>\n",
              "</table>\n",
              "</div>\n",
              "    <div class=\"colab-df-buttons\">\n",
              "\n",
              "  <div class=\"colab-df-container\">\n",
              "    <button class=\"colab-df-convert\" onclick=\"convertToInteractive('df-e240e535-0d59-4b47-8035-8357115d27c3')\"\n",
              "            title=\"Convert this dataframe to an interactive table.\"\n",
              "            style=\"display:none;\">\n",
              "\n",
              "  <svg xmlns=\"http://www.w3.org/2000/svg\" height=\"24px\" viewBox=\"0 -960 960 960\">\n",
              "    <path d=\"M120-120v-720h720v720H120Zm60-500h600v-160H180v160Zm220 220h160v-160H400v160Zm0 220h160v-160H400v160ZM180-400h160v-160H180v160Zm440 0h160v-160H620v160ZM180-180h160v-160H180v160Zm440 0h160v-160H620v160Z\"/>\n",
              "  </svg>\n",
              "    </button>\n",
              "\n",
              "  <style>\n",
              "    .colab-df-container {\n",
              "      display:flex;\n",
              "      gap: 12px;\n",
              "    }\n",
              "\n",
              "    .colab-df-convert {\n",
              "      background-color: #E8F0FE;\n",
              "      border: none;\n",
              "      border-radius: 50%;\n",
              "      cursor: pointer;\n",
              "      display: none;\n",
              "      fill: #1967D2;\n",
              "      height: 32px;\n",
              "      padding: 0 0 0 0;\n",
              "      width: 32px;\n",
              "    }\n",
              "\n",
              "    .colab-df-convert:hover {\n",
              "      background-color: #E2EBFA;\n",
              "      box-shadow: 0px 1px 2px rgba(60, 64, 67, 0.3), 0px 1px 3px 1px rgba(60, 64, 67, 0.15);\n",
              "      fill: #174EA6;\n",
              "    }\n",
              "\n",
              "    .colab-df-buttons div {\n",
              "      margin-bottom: 4px;\n",
              "    }\n",
              "\n",
              "    [theme=dark] .colab-df-convert {\n",
              "      background-color: #3B4455;\n",
              "      fill: #D2E3FC;\n",
              "    }\n",
              "\n",
              "    [theme=dark] .colab-df-convert:hover {\n",
              "      background-color: #434B5C;\n",
              "      box-shadow: 0px 1px 3px 1px rgba(0, 0, 0, 0.15);\n",
              "      filter: drop-shadow(0px 1px 2px rgba(0, 0, 0, 0.3));\n",
              "      fill: #FFFFFF;\n",
              "    }\n",
              "  </style>\n",
              "\n",
              "    <script>\n",
              "      const buttonEl =\n",
              "        document.querySelector('#df-e240e535-0d59-4b47-8035-8357115d27c3 button.colab-df-convert');\n",
              "      buttonEl.style.display =\n",
              "        google.colab.kernel.accessAllowed ? 'block' : 'none';\n",
              "\n",
              "      async function convertToInteractive(key) {\n",
              "        const element = document.querySelector('#df-e240e535-0d59-4b47-8035-8357115d27c3');\n",
              "        const dataTable =\n",
              "          await google.colab.kernel.invokeFunction('convertToInteractive',\n",
              "                                                    [key], {});\n",
              "        if (!dataTable) return;\n",
              "\n",
              "        const docLinkHtml = 'Like what you see? Visit the ' +\n",
              "          '<a target=\"_blank\" href=https://colab.research.google.com/notebooks/data_table.ipynb>data table notebook</a>'\n",
              "          + ' to learn more about interactive tables.';\n",
              "        element.innerHTML = '';\n",
              "        dataTable['output_type'] = 'display_data';\n",
              "        await google.colab.output.renderOutput(dataTable, element);\n",
              "        const docLink = document.createElement('div');\n",
              "        docLink.innerHTML = docLinkHtml;\n",
              "        element.appendChild(docLink);\n",
              "      }\n",
              "    </script>\n",
              "  </div>\n",
              "\n",
              "\n",
              "<div id=\"df-58373ea0-ed35-483a-bddb-6e2231b7dd7b\">\n",
              "  <button class=\"colab-df-quickchart\" onclick=\"quickchart('df-58373ea0-ed35-483a-bddb-6e2231b7dd7b')\"\n",
              "            title=\"Suggest charts\"\n",
              "            style=\"display:none;\">\n",
              "\n",
              "<svg xmlns=\"http://www.w3.org/2000/svg\" height=\"24px\"viewBox=\"0 0 24 24\"\n",
              "     width=\"24px\">\n",
              "    <g>\n",
              "        <path d=\"M19 3H5c-1.1 0-2 .9-2 2v14c0 1.1.9 2 2 2h14c1.1 0 2-.9 2-2V5c0-1.1-.9-2-2-2zM9 17H7v-7h2v7zm4 0h-2V7h2v10zm4 0h-2v-4h2v4z\"/>\n",
              "    </g>\n",
              "</svg>\n",
              "  </button>\n",
              "\n",
              "<style>\n",
              "  .colab-df-quickchart {\n",
              "      --bg-color: #E8F0FE;\n",
              "      --fill-color: #1967D2;\n",
              "      --hover-bg-color: #E2EBFA;\n",
              "      --hover-fill-color: #174EA6;\n",
              "      --disabled-fill-color: #AAA;\n",
              "      --disabled-bg-color: #DDD;\n",
              "  }\n",
              "\n",
              "  [theme=dark] .colab-df-quickchart {\n",
              "      --bg-color: #3B4455;\n",
              "      --fill-color: #D2E3FC;\n",
              "      --hover-bg-color: #434B5C;\n",
              "      --hover-fill-color: #FFFFFF;\n",
              "      --disabled-bg-color: #3B4455;\n",
              "      --disabled-fill-color: #666;\n",
              "  }\n",
              "\n",
              "  .colab-df-quickchart {\n",
              "    background-color: var(--bg-color);\n",
              "    border: none;\n",
              "    border-radius: 50%;\n",
              "    cursor: pointer;\n",
              "    display: none;\n",
              "    fill: var(--fill-color);\n",
              "    height: 32px;\n",
              "    padding: 0;\n",
              "    width: 32px;\n",
              "  }\n",
              "\n",
              "  .colab-df-quickchart:hover {\n",
              "    background-color: var(--hover-bg-color);\n",
              "    box-shadow: 0 1px 2px rgba(60, 64, 67, 0.3), 0 1px 3px 1px rgba(60, 64, 67, 0.15);\n",
              "    fill: var(--button-hover-fill-color);\n",
              "  }\n",
              "\n",
              "  .colab-df-quickchart-complete:disabled,\n",
              "  .colab-df-quickchart-complete:disabled:hover {\n",
              "    background-color: var(--disabled-bg-color);\n",
              "    fill: var(--disabled-fill-color);\n",
              "    box-shadow: none;\n",
              "  }\n",
              "\n",
              "  .colab-df-spinner {\n",
              "    border: 2px solid var(--fill-color);\n",
              "    border-color: transparent;\n",
              "    border-bottom-color: var(--fill-color);\n",
              "    animation:\n",
              "      spin 1s steps(1) infinite;\n",
              "  }\n",
              "\n",
              "  @keyframes spin {\n",
              "    0% {\n",
              "      border-color: transparent;\n",
              "      border-bottom-color: var(--fill-color);\n",
              "      border-left-color: var(--fill-color);\n",
              "    }\n",
              "    20% {\n",
              "      border-color: transparent;\n",
              "      border-left-color: var(--fill-color);\n",
              "      border-top-color: var(--fill-color);\n",
              "    }\n",
              "    30% {\n",
              "      border-color: transparent;\n",
              "      border-left-color: var(--fill-color);\n",
              "      border-top-color: var(--fill-color);\n",
              "      border-right-color: var(--fill-color);\n",
              "    }\n",
              "    40% {\n",
              "      border-color: transparent;\n",
              "      border-right-color: var(--fill-color);\n",
              "      border-top-color: var(--fill-color);\n",
              "    }\n",
              "    60% {\n",
              "      border-color: transparent;\n",
              "      border-right-color: var(--fill-color);\n",
              "    }\n",
              "    80% {\n",
              "      border-color: transparent;\n",
              "      border-right-color: var(--fill-color);\n",
              "      border-bottom-color: var(--fill-color);\n",
              "    }\n",
              "    90% {\n",
              "      border-color: transparent;\n",
              "      border-bottom-color: var(--fill-color);\n",
              "    }\n",
              "  }\n",
              "</style>\n",
              "\n",
              "  <script>\n",
              "    async function quickchart(key) {\n",
              "      const quickchartButtonEl =\n",
              "        document.querySelector('#' + key + ' button');\n",
              "      quickchartButtonEl.disabled = true;  // To prevent multiple clicks.\n",
              "      quickchartButtonEl.classList.add('colab-df-spinner');\n",
              "      try {\n",
              "        const charts = await google.colab.kernel.invokeFunction(\n",
              "            'suggestCharts', [key], {});\n",
              "      } catch (error) {\n",
              "        console.error('Error during call to suggestCharts:', error);\n",
              "      }\n",
              "      quickchartButtonEl.classList.remove('colab-df-spinner');\n",
              "      quickchartButtonEl.classList.add('colab-df-quickchart-complete');\n",
              "    }\n",
              "    (() => {\n",
              "      let quickchartButtonEl =\n",
              "        document.querySelector('#df-58373ea0-ed35-483a-bddb-6e2231b7dd7b button');\n",
              "      quickchartButtonEl.style.display =\n",
              "        google.colab.kernel.accessAllowed ? 'block' : 'none';\n",
              "    })();\n",
              "  </script>\n",
              "</div>\n",
              "\n",
              "    </div>\n",
              "  </div>\n"
            ],
            "application/vnd.google.colaboratory.intrinsic+json": {
              "type": "dataframe",
              "variable_name": "df_bancos",
              "summary": "{\n  \"name\": \"df_bancos\",\n  \"rows\": 10,\n  \"fields\": [\n    {\n      \"column\": \"Bank Name\",\n      \"properties\": {\n        \"dtype\": \"string\",\n        \"num_unique_values\": 10,\n        \"samples\": [\n          \"The First State Bank\",\n          \"Citizens Bank\",\n          \"Silicon Valley Bank\"\n        ],\n        \"semantic_type\": \"\",\n        \"description\": \"\"\n      }\n    },\n    {\n      \"column\": \"City\",\n      \"properties\": {\n        \"dtype\": \"string\",\n        \"num_unique_values\": 10,\n        \"samples\": [\n          \"Barboursville\",\n          \"Sac City\",\n          \"Santa Clara\"\n        ],\n        \"semantic_type\": \"\",\n        \"description\": \"\"\n      }\n    },\n    {\n      \"column\": \"State\",\n      \"properties\": {\n        \"dtype\": \"string\",\n        \"num_unique_values\": 8,\n        \"samples\": [\n          \"Iowa\",\n          \"Florida\",\n          \"Pennsylvania\"\n        ],\n        \"semantic_type\": \"\",\n        \"description\": \"\"\n      }\n    },\n    {\n      \"column\": \"Cert\",\n      \"properties\": {\n        \"dtype\": \"number\",\n        \"std\": 17455,\n        \"min\": 8758,\n        \"max\": 59017,\n        \"num_unique_values\": 10,\n        \"samples\": [\n          14361,\n          8758,\n          24735\n        ],\n        \"semantic_type\": \"\",\n        \"description\": \"\"\n      }\n    },\n    {\n      \"column\": \"Aquiring Institution\",\n      \"properties\": {\n        \"dtype\": \"string\",\n        \"num_unique_values\": 10,\n        \"samples\": [\n          \"MVB Bank, Inc.\",\n          \"Iowa Trust & Savings Bank\",\n          \"First Citizens Bank & Trust Company\"\n        ],\n        \"semantic_type\": \"\",\n        \"description\": \"\"\n      }\n    },\n    {\n      \"column\": \"Closing Date\",\n      \"properties\": {\n        \"dtype\": \"object\",\n        \"num_unique_values\": 10,\n        \"samples\": [\n          \"April 3, 2020\",\n          \"November 3, 2023\",\n          \"March 10, 2023\"\n        ],\n        \"semantic_type\": \"\",\n        \"description\": \"\"\n      }\n    },\n    {\n      \"column\": \"Fund\",\n      \"properties\": {\n        \"dtype\": \"number\",\n        \"std\": 3,\n        \"min\": 10535,\n        \"max\": 10546,\n        \"num_unique_values\": 10,\n        \"samples\": [\n          10536,\n          10545,\n          10539\n        ],\n        \"semantic_type\": \"\",\n        \"description\": \"\"\n      }\n    }\n  ]\n}"
            }
          },
          "metadata": {},
          "execution_count": 13
        }
      ]
    },
    {
      "cell_type": "code",
      "source": [
        "#Exercicio. Gerenciando um cadastro de uma loja, precisamos da orientação de qual publico deve investir, sendo assim, queremos saber a idade media dos clientes\n",
        "import pandas as pd\n",
        "#Criando um dicionario com nomes e idades\n",
        "dados = {\n",
        "    'Nome': ['Alice', 'Bob', 'Carol', 'David', 'Eve'],\n",
        "    'Idade': [25, 30, 35, 40, 45]\n",
        "}\n",
        "#Criando uma Series a partir do dicionario\n",
        "serie_idades = pd.Series(dados['Idade'], index=dados['Nome']) #index, esta indexando pelo nome, esta atribuindo nome e idade, se procurar por alice, vai informar 25\n",
        "#Exibir a serie idades\n",
        "print((\"Serie de idades:\"))\n",
        "print(serie_idades)\n",
        "#Calcular a media de idades\n",
        "media_idades = serie_idades.mean() #mean significa média\n",
        "print(\"\\nMédia de idades:\", media_idades)"
      ],
      "metadata": {
        "colab": {
          "base_uri": "https://localhost:8080/"
        },
        "id": "Ch6bv6-wsRHZ",
        "outputId": "036f85ac-eb9b-4eec-939b-329827e44bea"
      },
      "execution_count": 15,
      "outputs": [
        {
          "output_type": "stream",
          "name": "stdout",
          "text": [
            "Serie de idades:\n",
            "Alice    25\n",
            "Bob      30\n",
            "Carol    35\n",
            "David    40\n",
            "Eve      45\n",
            "dtype: int64\n",
            "\n",
            "Média de idades: 35.0\n"
          ]
        }
      ]
    },
    {
      "cell_type": "code",
      "source": [],
      "metadata": {
        "id": "7Xx6RGU-zRoz"
      },
      "execution_count": null,
      "outputs": []
    },
    {
      "cell_type": "code",
      "source": [],
      "metadata": {
        "id": "WHV2jSGkuJPg"
      },
      "execution_count": null,
      "outputs": []
    }
  ]
}