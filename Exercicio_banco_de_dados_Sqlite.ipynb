{
  "nbformat": 4,
  "nbformat_minor": 0,
  "metadata": {
    "colab": {
      "provenance": [],
      "authorship_tag": "ABX9TyPx8xtlZKmWIQVD5vnKWyRK",
      "include_colab_link": true
    },
    "kernelspec": {
      "name": "python3",
      "display_name": "Python 3"
    },
    "language_info": {
      "name": "python"
    }
  },
  "cells": [
    {
      "cell_type": "markdown",
      "metadata": {
        "id": "view-in-github",
        "colab_type": "text"
      },
      "source": [
        "<a href=\"https://colab.research.google.com/github/Gabrieldacostamachado/phyton/blob/main/Exercicio_banco_de_dados_Sqlite.ipynb\" target=\"_parent\"><img src=\"https://colab.research.google.com/assets/colab-badge.svg\" alt=\"Open In Colab\"/></a>"
      ]
    },
    {
      "cell_type": "code",
      "execution_count": 17,
      "metadata": {
        "id": "w5-fqOJz6oI8"
      },
      "outputs": [],
      "source": [
        "#Criando um banco de dados com os funcionarios, seus cargos e salarios\n",
        "\n",
        "import sqlite3\n",
        "\n",
        "#Passo 1 conectar ao banco de dados sqlite ou cria-lo se não existir\n",
        "conn = sqlite3.connect(\"funcionarios.db\")\n"
      ]
    },
    {
      "cell_type": "code",
      "source": [
        "#Passo 2 criar a tabela de funcionarios\n",
        "cursor = conn.cursor()\n",
        "cursor.execute(\"\"\"\n",
        "    CREATE TABLE IF NOT EXISTS funcionarios (\n",
        "        id INTEGER PRIMARY KEY,\n",
        "        nome TEXT,\n",
        "        cargo TEXT,\n",
        "        salario REAL\n",
        "    )\n",
        "\n",
        "\"\"\")"
      ],
      "metadata": {
        "colab": {
          "base_uri": "https://localhost:8080/"
        },
        "id": "3nRHYzbg66VB",
        "outputId": "5c64ef98-9622-42d3-edc4-6b80b0ce1a54"
      },
      "execution_count": 18,
      "outputs": [
        {
          "output_type": "execute_result",
          "data": {
            "text/plain": [
              "<sqlite3.Cursor at 0x7c1aa6b27d40>"
            ]
          },
          "metadata": {},
          "execution_count": 18
        }
      ]
    },
    {
      "cell_type": "code",
      "source": [
        "#Passo 3: Inserir novo funcionario na tabela\n",
        "novo_funcionario = (4, \"Arthur\", \"Estagiario\", 800.00)\n",
        "cursor.execute(\"INSERT INTO funcionarios VALUES (?, ?, ?, ?)\", novo_funcionario)\n",
        "conn.commit()"
      ],
      "metadata": {
        "id": "e2fCekZz7k8S"
      },
      "execution_count": 26,
      "outputs": []
    },
    {
      "cell_type": "code",
      "source": [
        "# Passo 4 consultar e exibir funcionarios\n",
        "cursor.execute(\"SELECT * FROM funcionarios\")\n",
        "funcionarios = cursor.fetchall()\n",
        "print(\"Funcionários cadastrados:\")\n",
        "for funcionario in funcionarios:\n",
        "    print(funcionarios)"
      ],
      "metadata": {
        "colab": {
          "base_uri": "https://localhost:8080/"
        },
        "id": "EsXNYYkP8VNN",
        "outputId": "c1fc3d8c-d7b6-4e7d-abdf-5e87c14678b3"
      },
      "execution_count": 28,
      "outputs": [
        {
          "output_type": "stream",
          "name": "stdout",
          "text": [
            "Funcionários cadastrados:\n",
            "[(1, 'João Silva', 'Analista', 5500.0), (2, 'Gabriel', 'Aspone', 100.0), (3, 'Alice', 'Gerente Geral', 8100.0), (4, 'Arthur', 'Estagiario', 800.0)]\n",
            "[(1, 'João Silva', 'Analista', 5500.0), (2, 'Gabriel', 'Aspone', 100.0), (3, 'Alice', 'Gerente Geral', 8100.0), (4, 'Arthur', 'Estagiario', 800.0)]\n",
            "[(1, 'João Silva', 'Analista', 5500.0), (2, 'Gabriel', 'Aspone', 100.0), (3, 'Alice', 'Gerente Geral', 8100.0), (4, 'Arthur', 'Estagiario', 800.0)]\n",
            "[(1, 'João Silva', 'Analista', 5500.0), (2, 'Gabriel', 'Aspone', 100.0), (3, 'Alice', 'Gerente Geral', 8100.0), (4, 'Arthur', 'Estagiario', 800.0)]\n"
          ]
        }
      ]
    },
    {
      "cell_type": "code",
      "source": [
        "# Atualizando dados dos funcionarios\n",
        "atualizacao = (\"João Silva\", 5500.00, 1)\n",
        "cursor.execute(\"UPDATE funcionarios SET nome = ?, salario = ? WHERE id = ?\", atualizacao)\n",
        "conn.commit()"
      ],
      "metadata": {
        "id": "-QVqjTZy85RG"
      },
      "execution_count": 21,
      "outputs": []
    },
    {
      "cell_type": "code",
      "source": [
        "#Conultando atualização do cadastro do funcionario\n",
        "cursor.execute(\"SELECT * FROM funcionarios\")\n",
        "funcionarios = cursor.fetchall()\n",
        "print(\"Funcionários cadastrados:\")\n",
        "for funcionario in funcionarios:\n",
        "    print(funcionarios)\n"
      ],
      "metadata": {
        "colab": {
          "base_uri": "https://localhost:8080/"
        },
        "id": "tg4IPV-f-iUv",
        "outputId": "13b7c648-711f-4b4c-b8b0-099b3c397e1f"
      },
      "execution_count": 31,
      "outputs": [
        {
          "output_type": "stream",
          "name": "stdout",
          "text": [
            "Funcionários cadastrados:\n",
            "[(2, 'Gabriel', 'Aspone', 100.0), (3, 'Alice', 'Gerente Geral', 8100.0), (4, 'Arthur', 'Estagiario', 800.0)]\n",
            "[(2, 'Gabriel', 'Aspone', 100.0), (3, 'Alice', 'Gerente Geral', 8100.0), (4, 'Arthur', 'Estagiario', 800.0)]\n",
            "[(2, 'Gabriel', 'Aspone', 100.0), (3, 'Alice', 'Gerente Geral', 8100.0), (4, 'Arthur', 'Estagiario', 800.0)]\n"
          ]
        }
      ]
    },
    {
      "cell_type": "code",
      "source": [
        "# Passo 6 deletar o funcionario da tabela\n",
        "id_funcionario_para_deletar = 1\n",
        "cursor.execute(\"DELETE FROM funcionarios WHERE id = ?\", (id_funcionario_para_deletar,))\n",
        "conn.commit()"
      ],
      "metadata": {
        "id": "qwDjO1En9oMU"
      },
      "execution_count": 30,
      "outputs": []
    },
    {
      "cell_type": "code",
      "source": [],
      "metadata": {
        "id": "n5zWyX3X-YO9"
      },
      "execution_count": null,
      "outputs": []
    }
  ]
}