{
  "nbformat": 4,
  "nbformat_minor": 0,
  "metadata": {
    "colab": {
      "provenance": [],
      "authorship_tag": "ABX9TyNCrXLwiJPIMmm8AHhci5nO",
      "include_colab_link": true
    },
    "kernelspec": {
      "name": "python3",
      "display_name": "Python 3"
    },
    "language_info": {
      "name": "python"
    }
  },
  "cells": [
    {
      "cell_type": "markdown",
      "metadata": {
        "id": "view-in-github",
        "colab_type": "text"
      },
      "source": [
        "<a href=\"https://colab.research.google.com/github/Gabrieldacostamachado/phyton/blob/main/Classes_e_m%C3%A9todos_em_python_Exercicio.ipynb\" target=\"_parent\"><img src=\"https://colab.research.google.com/assets/colab-badge.svg\" alt=\"Open In Colab\"/></a>"
      ]
    },
    {
      "cell_type": "code",
      "execution_count": 9,
      "metadata": {
        "colab": {
          "base_uri": "https://localhost:8080/"
        },
        "id": "Yrfw72F3ia4v",
        "outputId": "9ea116c2-9e99-447e-89c6-17b1ca334c71"
      },
      "outputs": [
        {
          "output_type": "stream",
          "name": "stdout",
          "text": [
            "Olá, meu nome é João.\n",
            "Idade: 30\n",
            "Nova idade: 31\n"
          ]
        }
      ],
      "source": [
        "#Classes e métodos em python\n",
        "# Define uma classe chamada pessoa\n",
        "class Pessoa:\n",
        "    # O método __init__ é um construtor, chamado quando um objeto da classe é criado.\n",
        "    #Ele inicializa os atributos da classe\n",
        "    def __init__(self, nome, idade, genero):\n",
        "        # Self é uma convenção em Python que se refere a própria instância da classe\n",
        "        # Os parametros nome, idade e genero são passados durante a criação do objeto\n",
        "        # Eles são usados para inicializar os atributos da instância\n",
        "        self.nome = nome #Atribui o valor de nome ao atributo nome da instancia\n",
        "        self.idade = idade #Atribui o valor de idade ao atributo idade da instancia\n",
        "        self.genero = genero #Atribui o valor de genero ao atributo genero da instancia\n",
        "    # O método cumprimentar retorna uma saudação com o nome da pessoa\n",
        "    def cumprimentar(self):\n",
        "        return f\"Olá, meu nome é {self.nome}.\"\n",
        "    # O método aniversario aumenta a idade da pessoa em 1\n",
        "    def aniversario(self):\n",
        "        self.idade += 1\n",
        "\n",
        "#Cria uma instancia da classe \"Pessoa\" com os valores \"João\", 30 e \"Masculino\" para nome, idade e genero, respectivamente\n",
        "pessoa1 = Pessoa(\"João\", 30, \"Masculino\")\n",
        "\n",
        "#Chama o método \"cumprimentar\" na instancia pessoa1 e imprime a saudação\n",
        "print(pessoa1.cumprimentar()) #Saida: \"Olá, meu nome é João\"\n",
        "#Acessa o atributo idade da instancia da pessoa1 e imprime sua idade\n",
        "print(f\"Idade: {pessoa1.idade}\") # Saida: \"Idade: 30\"\n",
        "#Chama o método anuversario na instancia pessoa1 para aumentar a idade em 1\n",
        "pessoa1.aniversario()\n",
        "#Acessa o atributo idade atualizada da instancia pessoa1 e imprime a nova idade\n",
        "print(f\"Nova idade: {pessoa1.idade}\") # Saida \"Nova idade 31\""
      ]
    },
    {
      "cell_type": "code",
      "source": [
        "# Herança em Python\n",
        "class Animal: #Classe mãe até o pass\n",
        "    def __init__(self, nome):\n",
        "        self.nome = nome\n",
        "    def fazer_barulho(self):#Herança\n",
        "        pass\n",
        "class Cachorro(Animal): #Essa classe herda da classe animal, o nome e o barulho (Herança)\n",
        "    def fazer_barulho(self):\n",
        "        return \"latir\"\n",
        "class Gato(Animal): #Essa classe herda da classe animal, o nome e o barulho (Herança)\n",
        "    def fazer_barulho(self):\n",
        "        return \"miar\"\n"
      ],
      "metadata": {
        "id": "pPrDamuE26z-"
      },
      "execution_count": 2,
      "outputs": []
    },
    {
      "cell_type": "code",
      "source": [
        "rex = Cachorro(\"Rex\")\n",
        "whiskers = Gato(\"Whiskers\")\n"
      ],
      "metadata": {
        "id": "gVdyoQ3fvtsy"
      },
      "execution_count": 3,
      "outputs": []
    },
    {
      "cell_type": "code",
      "source": [
        "print(f\"{rex.nome} faz: {rex.fazer_barulho()}\")"
      ],
      "metadata": {
        "colab": {
          "base_uri": "https://localhost:8080/"
        },
        "id": "6jJIOlsKwrbE",
        "outputId": "e8c45814-c030-40a6-ac4f-37d180733391"
      },
      "execution_count": 5,
      "outputs": [
        {
          "output_type": "stream",
          "name": "stdout",
          "text": [
            "Rex faz: latir\n"
          ]
        }
      ]
    },
    {
      "cell_type": "code",
      "source": [
        "print(f\"{whiskers.nome} faz: {whiskers.fazer_barulho()}\")"
      ],
      "metadata": {
        "colab": {
          "base_uri": "https://localhost:8080/"
        },
        "id": "3vysJ_nnw5oV",
        "outputId": "e2cdd101-67b0-463f-b76c-23c7ed0fd763"
      },
      "execution_count": 6,
      "outputs": [
        {
          "output_type": "stream",
          "name": "stdout",
          "text": [
            "Whiskers faz: miar\n"
          ]
        }
      ]
    },
    {
      "cell_type": "code",
      "source": [
        "from typing_extensions import Self\n",
        "# Exercicio final de aula\n",
        "# Crie um algoritmo que a partir de caracteristicas imputadas, mostre um resumo e status  de um veiculo. E faça algo semelhante para uma subdivisão dessa classe de veiculo\n",
        "\n",
        "class Veiculo: #Classe mãe\n",
        "    def __init__(self, marca, modelo, ano):\n",
        "        self.marca = marca\n",
        "        self.modelo = modelo\n",
        "        self.ano = ano\n",
        "        self.velocidade = 0\n",
        "\n",
        "    def acelerar(self, incremento):\n",
        "        self.velocidade += incremento\n",
        "\n",
        "    def desacelerar(self, decremento):\n",
        "        self.velocidade -= decremento\n",
        "\n",
        "    def status(self):\n",
        "        return f\"Marca: {self.marca}, Modelo {self.modelo}, Ano: {self.ano}, Velocidade: {self.velocidade}: KMh=/h\"\n",
        "\n",
        "class Carro(Veiculo): #Classe filha\n",
        "    def __init__(self, marca, modelo, ano, potencia):\n",
        "        super().__init__(marca, modelo, ano)\n",
        "        self.potencia = potencia\n",
        "\n",
        "    def acelerar(self, incremento):\n",
        "    #Carros podem acelerar mais rápido\n",
        "        self.velocidade += incremento + self.potencia\n",
        "\n",
        "class Bicicleta(Veiculo): #Classe filha\n",
        "    def __init__(self, marca, modelo, ano, tipo):\n",
        "        super().__init__(marca, modelo, ano)\n",
        "        self.tipo = tipo\n",
        "\n",
        "    def status(self):\n",
        "        return f\"Marca: {self.marca}, Modelo: {self.modelo}, Ano: {self.ano}, Tipo: {self.tipo}, Velocidade: {self.velocidade} km/h\"\n",
        "\n",
        "\n",
        "#Criando objetos\n",
        "\n",
        "carro1 = Carro(\"Toyota\", \"Corolla\", 1998, 150)\n",
        "bicicleta1 = Bicicleta(\"Caloi\", \"Montain Bike\", 2021, \"MTB\")\n",
        "\n",
        "#Acelerando e verificando status\n",
        "\n",
        "carro1.acelerar(50)\n",
        "bicicleta1.acelerar(20)\n",
        "\n",
        "#Exibindo status dos veiculos\n",
        "print(\"Status do carro:\")\n",
        "print(carro1.status())\n",
        "\n",
        "print(\"\\nStatus da bicicleta:\")\n",
        "print(bicicleta1.status())"
      ],
      "metadata": {
        "colab": {
          "base_uri": "https://localhost:8080/"
        },
        "id": "DD_lfs-axByx",
        "outputId": "3a1d81e4-2369-42c6-eee3-35478af9e29f"
      },
      "execution_count": 9,
      "outputs": [
        {
          "output_type": "stream",
          "name": "stdout",
          "text": [
            "Status do carro:\n",
            "Marca: Toyota, Modelo Corolla, Ano: 1998, Velocidade: 200: KMh=/h\n",
            "\n",
            "Status da bicicleta:\n",
            "Marca: Caloi, Modelo: Montain Bike, Ano: 2021, Tipo: MTB, Velocidade: 20 km/h\n"
          ]
        }
      ]
    },
    {
      "cell_type": "code",
      "source": [],
      "metadata": {
        "id": "-HgPPiJcbWku"
      },
      "execution_count": null,
      "outputs": []
    }
  ]
}