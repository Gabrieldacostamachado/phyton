{
  "nbformat": 4,
  "nbformat_minor": 0,
  "metadata": {
    "colab": {
      "provenance": [],
      "authorship_tag": "ABX9TyMjOQetRhojLP7rC7Sq82jS",
      "include_colab_link": true
    },
    "kernelspec": {
      "name": "python3",
      "display_name": "Python 3"
    },
    "language_info": {
      "name": "python"
    }
  },
  "cells": [
    {
      "cell_type": "markdown",
      "metadata": {
        "id": "view-in-github",
        "colab_type": "text"
      },
      "source": [
        "<a href=\"https://colab.research.google.com/github/Gabrieldacostamachado/phyton/blob/main/Aulas_2_e_3.ipynb\" target=\"_parent\"><img src=\"https://colab.research.google.com/assets/colab-badge.svg\" alt=\"Open In Colab\"/></a>"
      ]
    },
    {
      "cell_type": "code",
      "execution_count": 1,
      "metadata": {
        "id": "0FJqof3AZZtO"
      },
      "outputs": [],
      "source": [
        "# Utilização de estrutura de repetição \"For\"\n",
        "numeros = [1, 2, 3, 4, 5]"
      ]
    },
    {
      "cell_type": "code",
      "source": [
        "numeros"
      ],
      "metadata": {
        "colab": {
          "base_uri": "https://localhost:8080/"
        },
        "id": "MiEt4cZIZ027",
        "outputId": "aa8a6ae1-3461-4cee-d329-0e3ad25363c6"
      },
      "execution_count": 2,
      "outputs": [
        {
          "output_type": "execute_result",
          "data": {
            "text/plain": [
              "[1, 2, 3, 4, 5]"
            ]
          },
          "metadata": {},
          "execution_count": 2
        }
      ]
    },
    {
      "cell_type": "code",
      "source": [
        "for num in numeros:\n",
        "    print(num)"
      ],
      "metadata": {
        "colab": {
          "base_uri": "https://localhost:8080/"
        },
        "id": "NgIebTe5aCjB",
        "outputId": "6ba31ae2-f384-44d3-cb8d-0e5809b996a0"
      },
      "execution_count": 4,
      "outputs": [
        {
          "output_type": "stream",
          "name": "stdout",
          "text": [
            "1\n",
            "2\n",
            "3\n",
            "4\n",
            "5\n"
          ]
        }
      ]
    },
    {
      "cell_type": "code",
      "source": [
        "# Utilização de estrutura de repetição While, enquanto o número digitado não for 0, a função de repetição não para de ser executada\n",
        "\n",
        "numero = int(input(\"Digite um número, ou 0 para sair: \"))\n",
        "while numero != 0:\n",
        "    if numero % 2 == 0:\n",
        "        print(\"o número é par\")\n",
        "    else:\n",
        "        print(\"o número é ímpar\")\n",
        "    numero = int(input(\"Digite um número, ou 0 para sair: \"))"
      ],
      "metadata": {
        "colab": {
          "base_uri": "https://localhost:8080/"
        },
        "id": "foy_MoQvaNvH",
        "outputId": "75053b7b-dc9f-4c57-a901-d53303b07910"
      },
      "execution_count": 11,
      "outputs": [
        {
          "name": "stdout",
          "output_type": "stream",
          "text": [
            "Digite um número, ou 0 para sair: 1\n",
            "o número é ímpar\n",
            "Digite um número, ou 0 para sair: 2\n",
            "o número é par\n",
            "Digite um número, ou 0 para sair: 0\n"
          ]
        }
      ]
    },
    {
      "cell_type": "code",
      "source": [
        "#Controle das repetições: range\n",
        "\n",
        "#Começa sempre no 0, e vai até 1 número antes do que colocamos na fórmula: for x in range\n",
        "for x in range(5):\n",
        "    print(x)"
      ],
      "metadata": {
        "colab": {
          "base_uri": "https://localhost:8080/"
        },
        "id": "yll05mrGbRrC",
        "outputId": "c5f93a9e-af4d-4cec-df76-53377bd3477d"
      },
      "execution_count": 12,
      "outputs": [
        {
          "output_type": "stream",
          "name": "stdout",
          "text": [
            "0\n",
            "1\n",
            "2\n",
            "3\n",
            "4\n"
          ]
        }
      ]
    },
    {
      "cell_type": "code",
      "source": [
        "#Começa no 2, e termina sempre 1 número anterior ao que colocamos na estrutura: for y in range\n",
        "for y in range(2, 7):\n",
        "    print(y)"
      ],
      "metadata": {
        "colab": {
          "base_uri": "https://localhost:8080/"
        },
        "id": "-wJ1j7YOdCHt",
        "outputId": "238fafc8-81a6-4dcb-ad5e-274a0d45454a"
      },
      "execution_count": 13,
      "outputs": [
        {
          "output_type": "stream",
          "name": "stdout",
          "text": [
            "2\n",
            "3\n",
            "4\n",
            "5\n",
            "6\n"
          ]
        }
      ]
    },
    {
      "cell_type": "code",
      "source": [
        "#ex.: começa no 1, vai de 2 em 2, e o 11 fica de fora, pois é o limite inferior for z in range\n",
        "for z in range(1, 11, 2):\n",
        "    print(z)\n"
      ],
      "metadata": {
        "colab": {
          "base_uri": "https://localhost:8080/"
        },
        "id": "Q70elbqCdNTJ",
        "outputId": "be657665-a9d2-4c6b-e161-ffb3d5f2711c"
      },
      "execution_count": 16,
      "outputs": [
        {
          "output_type": "stream",
          "name": "stdout",
          "text": [
            "1\n",
            "3\n",
            "5\n",
            "7\n",
            "9\n"
          ]
        }
      ]
    },
    {
      "cell_type": "code",
      "source": [
        "#condição de parada Break, a aplicação da condição termina quando encontra o que foi solicitado, e apresenta o resultado\n",
        "#Ex.: Parar e apresentar o resultado após encontrar o primeiro número par\n",
        "for numero in range(3, 10):\n",
        "    if numero % 2 == 0:\n",
        "        print(\"o primeiro numero encontrado é:\", numero)\n",
        "        break"
      ],
      "metadata": {
        "colab": {
          "base_uri": "https://localhost:8080/"
        },
        "id": "v67h8_-hdVr6",
        "outputId": "e4c9306e-8116-417a-a411-c41b21273009"
      },
      "execution_count": 6,
      "outputs": [
        {
          "output_type": "stream",
          "name": "stdout",
          "text": [
            "o primeiro numero encontrado é: 4\n"
          ]
        }
      ]
    },
    {
      "cell_type": "code",
      "source": [
        "#Condição continue, é uma condição que pula aquilo que foi solicitado. Ex.: pulou o numero 4 da condição\n",
        "for numero in range(2, 10):\n",
        "    if numero == 4:\n",
        "        continue\n",
        "    print(numero)"
      ],
      "metadata": {
        "colab": {
          "base_uri": "https://localhost:8080/"
        },
        "id": "cLTsX7amSBHw",
        "outputId": "a229b416-db7c-44de-d91e-88a84bca1534"
      },
      "execution_count": 7,
      "outputs": [
        {
          "output_type": "stream",
          "name": "stdout",
          "text": [
            "2\n",
            "3\n",
            "5\n",
            "6\n",
            "7\n",
            "8\n",
            "9\n"
          ]
        }
      ]
    },
    {
      "cell_type": "code",
      "source": [
        "# Exercício Aula 3 Estruturas de repetição\n",
        "#Listagem de filmes\n",
        "filmes = [\"Filme1\", \"Filme2\", \"Filme3\", \"Filme4\", \"Filme5\"]\n",
        "\n",
        "filmes\n",
        "\n"
      ],
      "metadata": {
        "colab": {
          "base_uri": "https://localhost:8080/"
        },
        "id": "ShFSoxARS85w",
        "outputId": "2f980410-7eca-42e9-f5aa-474eb310872b"
      },
      "execution_count": 14,
      "outputs": [
        {
          "output_type": "execute_result",
          "data": {
            "text/plain": [
              "['Filme1', 'Filme2', 'Filme3', 'Filme4', 'Filme5']"
            ]
          },
          "metadata": {},
          "execution_count": 14
        }
      ]
    },
    {
      "cell_type": "code",
      "source": [
        "#Mensagem de boas vindas\n",
        "print (\"Seja bem-vindo a classificação de filmes\")\n",
        "print (\"Você tem 5 filmes pra classificar\")\n",
        "print (\"Digite 0 a qualquer momento para sair.\\n\")\n",
        "\n",
        "#Loop para iterar a lista\n",
        "for filme in filmes:\n",
        "    #Solicita classificação ao usuário\n",
        "    classificacao = input(f\"Como você cassilifica '{filme}' de 1 a 5 (ou 0 para parar): \")\n",
        "\n",
        "    #Verifica se o usuário quer para\n",
        "    if classificacao == \"0\":\n",
        "        print(\"Que pena que você não quer classificar os filmes\")\n",
        "        break  #Encerra o Loop principal\n",
        "\n",
        "    #converte a classificação em um numero inteiro\n",
        "    classificacao = int(classificacao)\n",
        "\n",
        "    #Em caso de classificação fora do permitido\n",
        "    if classificacao < 1 or classificacao > 5:\n",
        "        print(\"Classificação inválida. Por favor, digite uma classificação de 1 a 5.\")\n",
        "    else:\n",
        "        #Exige a classificação e passa para o próximo filme\n",
        "        print(f\"você classificou o '{filme}': com a nota '{classificacao}'\\n\")\n",
        "\n",
        "#Mensagem de agradecimento ai finalizar\n",
        "print(\"Obrigado por avaliar nossos filmes\")"
      ],
      "metadata": {
        "colab": {
          "base_uri": "https://localhost:8080/"
        },
        "id": "ihK-Ce55U3OI",
        "outputId": "06ed6c24-1ae2-4846-cd76-21f0e270080c"
      },
      "execution_count": 10,
      "outputs": [
        {
          "output_type": "stream",
          "name": "stdout",
          "text": [
            "Seja bem-vindo a classificação de filmes\n",
            "Você tem 5 filmes pra classificar\n",
            "Digite 0 a qualquer momento para sair.\n",
            "\n",
            "Como você cassilifica 'Filme1' de 1 a 5 (ou 0 para parar): 6\n",
            "Classificação inválida. Por favor, digite uma classificação de 1 a 5.\n",
            "Como você cassilifica 'Filme2' de 1 a 5 (ou 0 para parar): 0\n",
            "Que pena que você não quer classificar os filmes\n",
            "Obrigado por avaliar nossos filmes\n"
          ]
        }
      ]
    },
    {
      "cell_type": "code",
      "source": [
        "# Função soma\n",
        "\n",
        "def soma(a, b):\n",
        "    resultado = a + b\n",
        "    return resultado"
      ],
      "metadata": {
        "id": "SstlLAHBVG6c"
      },
      "execution_count": 14,
      "outputs": []
    },
    {
      "cell_type": "code",
      "source": [
        "resultado_soma = soma(5, 3)\n",
        "print(resultado_soma)"
      ],
      "metadata": {
        "colab": {
          "base_uri": "https://localhost:8080/"
        },
        "id": "3txNIFwYcU2z",
        "outputId": "2f1d44c3-44b0-4d28-c23a-9b02c2fe0b3f"
      },
      "execution_count": 16,
      "outputs": [
        {
          "output_type": "stream",
          "name": "stdout",
          "text": [
            "8\n"
          ]
        }
      ]
    },
    {
      "cell_type": "code",
      "source": [
        "# funções anonimas (lambda)\n",
        "soma = lambda a, b: a + b\n",
        "resultado = soma(12, 4)\n",
        "print(resultado)"
      ],
      "metadata": {
        "colab": {
          "base_uri": "https://localhost:8080/"
        },
        "id": "ZR-l7J7fccvl",
        "outputId": "a76d3663-3dda-41cd-8bd8-c6f0236c9367"
      },
      "execution_count": 18,
      "outputs": [
        {
          "output_type": "stream",
          "name": "stdout",
          "text": [
            "16\n"
          ]
        }
      ]
    },
    {
      "cell_type": "code",
      "source": [
        "nome = input(\"Insira seu nome: \")\n",
        "\n",
        "if nome in [\"Gabriel\"]:\n",
        "    print(\"Bem-vindo Gabriel\")\n",
        "else:\n",
        "    print(\"Acesso negado\")\n",
        ""
      ],
      "metadata": {
        "colab": {
          "base_uri": "https://localhost:8080/"
        },
        "id": "7ZXX7GopessJ",
        "outputId": "b5f386ca-8880-46f6-e75c-51df01cfab1b"
      },
      "execution_count": 25,
      "outputs": [
        {
          "output_type": "stream",
          "name": "stdout",
          "text": [
            "Insira seu nome: Gabriel\n",
            "Bem-vindo Gabriel\n"
          ]
        }
      ]
    },
    {
      "cell_type": "code",
      "source": [
        "#Exercicio aula de funções em phyton\n",
        "\n",
        "notas = [7.0, 3.8, 8.0, 9.0, 8.0]\n",
        "\n",
        "# Função regular para calcular a media\n",
        "def calcular_media(notas):\n",
        "    soma = sum(notas)\n",
        "    media = soma / len(notas)\n",
        "    return media\n",
        "\n",
        "# Função Lambda para arredondar média para casas decimais\n",
        "arredondar_media = lambda media: round(media, 2)\n",
        "\n",
        "# Calcular a média\n",
        "media = calcular_media(notas)\n",
        "\n",
        "# Arredondar a média\n",
        "media_arredondada = arredondar_media(media)\n",
        "\n",
        "# Verificar se os estudantes foram aprovados\n",
        "situacao = \"aprovado\" if media_arredondada >= 7 else \"reprovado\"\n",
        "\n",
        "print(\"as notas do estudande são: \", notas)\n",
        "print(\"A média do estudante é: \", media_arredondada)\n",
        "print(\" A situação do estudante é: \",situacao)"
      ],
      "metadata": {
        "colab": {
          "base_uri": "https://localhost:8080/"
        },
        "id": "2cbH1hyPv5yS",
        "outputId": "29fab967-127a-4311-a15e-ef596b0ad281"
      },
      "execution_count": 34,
      "outputs": [
        {
          "output_type": "stream",
          "name": "stdout",
          "text": [
            "as notas do estudande são:  [7.0, 3.8, 8.0, 9.0, 8.0]\n",
            "A média do estudante é:  7.16\n",
            " A situação do estudante é:  aprovado\n"
          ]
        }
      ]
    },
    {
      "cell_type": "code",
      "source": [
        "#Exercicio aula de funções em phyton\n",
        "\n",
        "disciplinas = [\"Português\", \"Matemática\", \"História\", \"Geografia\", \"Ciências\"]\n",
        "\n",
        "disciplinas\n",
        "\n",
        "print(\"Seja-bem vindo\")\n",
        "print(\"Insira as notas do estudante\\n\")\n",
        "\n",
        "for notas in disciplinas:\n",
        "    disciplina = input(f\"Insira a nota de cada disciplina '{notas}' do aluno: \")\n",
        "\n",
        "    disciplina = int(disciplina)\n",
        "# Função regular para calcular a media\n",
        "def calcular_media(disciplina):\n",
        "    soma = sum(disciplina)\n",
        "    media = soma / len(disciplina)\n",
        "    return media\n",
        "\n",
        "# Função Lambda para arredondar média para casas decimais\n",
        "arredondar_media = lambda media: round(media, 2)\n",
        "\n",
        "# Calcular a média\n",
        "media = calcular_media(disciplina)\n",
        "\n",
        "# Arredondar a média\n",
        "media_arredondada = arredondar_media(disciplina)\n",
        "\n",
        "# Verificar se os estudantes foram aprovados\n",
        "situacao = \"aprovado\" if media_arredondada >= 7 else \"reprovado\"\n",
        "\n",
        "print(\"as notas do estudande são: \", notas)\n",
        "print(\"A média do estudante é: \", media_arredondada)\n",
        "print(\" A situação do estudante é: \",situacao)"
      ],
      "metadata": {
        "colab": {
          "base_uri": "https://localhost:8080/",
          "height": 471
        },
        "id": "4OVGESR0x_6y",
        "outputId": "f261f698-79a4-4726-88c7-e186545ae208"
      },
      "execution_count": 42,
      "outputs": [
        {
          "name": "stdout",
          "output_type": "stream",
          "text": [
            "Seja-bem vindo\n",
            "Insira as notas do estudante\n",
            "\n",
            "Insira a nota de cada disciplina 'Português' do aluno: 10\n",
            "Insira a nota de cada disciplina 'Matemática' do aluno: 8\n",
            "Insira a nota de cada disciplina 'História' do aluno: 6\n",
            "Insira a nota de cada disciplina 'Geografia' do aluno: 8\n",
            "Insira a nota de cada disciplina 'Ciências' do aluno: 7\n"
          ]
        },
        {
          "output_type": "error",
          "ename": "TypeError",
          "evalue": "'int' object is not iterable",
          "traceback": [
            "\u001b[0;31m---------------------------------------------------------------------------\u001b[0m",
            "\u001b[0;31mTypeError\u001b[0m                                 Traceback (most recent call last)",
            "\u001b[0;32m<ipython-input-42-68d485182bb6>\u001b[0m in \u001b[0;36m<cell line: 24>\u001b[0;34m()\u001b[0m\n\u001b[1;32m     22\u001b[0m \u001b[0;34m\u001b[0m\u001b[0m\n\u001b[1;32m     23\u001b[0m \u001b[0;31m# Calcular a média\u001b[0m\u001b[0;34m\u001b[0m\u001b[0;34m\u001b[0m\u001b[0m\n\u001b[0;32m---> 24\u001b[0;31m \u001b[0mmedia\u001b[0m \u001b[0;34m=\u001b[0m \u001b[0mcalcular_media\u001b[0m\u001b[0;34m(\u001b[0m\u001b[0mdisciplina\u001b[0m\u001b[0;34m)\u001b[0m\u001b[0;34m\u001b[0m\u001b[0;34m\u001b[0m\u001b[0m\n\u001b[0m\u001b[1;32m     25\u001b[0m \u001b[0;34m\u001b[0m\u001b[0m\n\u001b[1;32m     26\u001b[0m \u001b[0;31m# Arredondar a média\u001b[0m\u001b[0;34m\u001b[0m\u001b[0;34m\u001b[0m\u001b[0m\n",
            "\u001b[0;32m<ipython-input-42-68d485182bb6>\u001b[0m in \u001b[0;36mcalcular_media\u001b[0;34m(disciplina)\u001b[0m\n\u001b[1;32m     14\u001b[0m \u001b[0;31m# Função regular para calcular a media\u001b[0m\u001b[0;34m\u001b[0m\u001b[0;34m\u001b[0m\u001b[0m\n\u001b[1;32m     15\u001b[0m \u001b[0;32mdef\u001b[0m \u001b[0mcalcular_media\u001b[0m\u001b[0;34m(\u001b[0m\u001b[0mdisciplina\u001b[0m\u001b[0;34m)\u001b[0m\u001b[0;34m:\u001b[0m\u001b[0;34m\u001b[0m\u001b[0;34m\u001b[0m\u001b[0m\n\u001b[0;32m---> 16\u001b[0;31m     \u001b[0msoma\u001b[0m \u001b[0;34m=\u001b[0m \u001b[0msum\u001b[0m\u001b[0;34m(\u001b[0m\u001b[0mdisciplina\u001b[0m\u001b[0;34m)\u001b[0m\u001b[0;34m\u001b[0m\u001b[0;34m\u001b[0m\u001b[0m\n\u001b[0m\u001b[1;32m     17\u001b[0m     \u001b[0mmedia\u001b[0m \u001b[0;34m=\u001b[0m \u001b[0msoma\u001b[0m \u001b[0;34m/\u001b[0m \u001b[0mlen\u001b[0m\u001b[0;34m(\u001b[0m\u001b[0mdisciplina\u001b[0m\u001b[0;34m)\u001b[0m\u001b[0;34m\u001b[0m\u001b[0;34m\u001b[0m\u001b[0m\n\u001b[1;32m     18\u001b[0m     \u001b[0;32mreturn\u001b[0m \u001b[0mmedia\u001b[0m\u001b[0;34m\u001b[0m\u001b[0;34m\u001b[0m\u001b[0m\n",
            "\u001b[0;31mTypeError\u001b[0m: 'int' object is not iterable"
          ]
        }
      ]
    },
    {
      "cell_type": "code",
      "source": [
        "#Exercicio aula de funções em phyton com inserção de notas\n",
        "\n",
        "\n",
        "disciplinas = [\"Português\", \"Matemática\", \"História\", \"Geografia\", \"Ciências\"]\n",
        "\n",
        "disciplinas\n",
        "\n",
        "print(\"Seja-bem vindo\")\n",
        "print(\"Insira as notas do estudante\\n\")\n",
        "\n",
        "notas_disciplinas = [] # create a list to store the grades\n",
        "\n",
        "for disciplina in disciplinas:\n",
        "    nota = int(input(f\"Insira a nota de cada disciplina '{disciplina}' do aluno: \"))\n",
        "    notas_disciplinas.append(nota) # add the grade to the list\n",
        "\n",
        "# Função regular para calcular a media\n",
        "def calcular_media(notas):\n",
        "    soma = sum(notas)\n",
        "    media = soma / len(notas)\n",
        "    return media\n",
        "\n",
        "# Função Lambda para arredondar média para casas decimais\n",
        "arredondar_media = lambda media: round(media, 2)\n",
        "\n",
        "# Calcular a média\n",
        "media = calcular_media(notas_disciplinas) # pass the list of grades to the function\n",
        "\n",
        "# Arredondar a média\n",
        "media_arredondada = arredondar_media(media)\n",
        "\n",
        "# Verificar se os estudantes foram aprovados\n",
        "situacao = \"aprovado\" if media_arredondada >= 7 else \"reprovado\"\n",
        "\n",
        "print(\"as notas do estudande são: \", notas_disciplinas) # print the list of grades\n",
        "print(\"A média do estudante é: \", media_arredondada)\n",
        "print(\"A situação do estudante é: \",situacao)"
      ],
      "metadata": {
        "colab": {
          "base_uri": "https://localhost:8080/"
        },
        "id": "l8AGpEg13Roe",
        "outputId": "4f730bf7-be00-4993-ea59-3f630a3c125f"
      },
      "execution_count": 43,
      "outputs": [
        {
          "output_type": "stream",
          "name": "stdout",
          "text": [
            "Seja-bem vindo\n",
            "Insira as notas do estudante\n",
            "\n",
            "Insira a nota de cada disciplina 'Português' do aluno: 8\n",
            "Insira a nota de cada disciplina 'Matemática' do aluno: 6\n",
            "Insira a nota de cada disciplina 'História' do aluno: 8\n",
            "Insira a nota de cada disciplina 'Geografia' do aluno: 5\n",
            "Insira a nota de cada disciplina 'Ciências' do aluno: 10\n",
            "as notas do estudande são:  [8, 6, 8, 5, 10]\n",
            "A média do estudante é:  7.4\n",
            " A situação do estudante é:  aprovado\n"
          ]
        }
      ]
    },
    {
      "cell_type": "code",
      "source": [],
      "metadata": {
        "id": "HCp--Oc16x0n"
      },
      "execution_count": null,
      "outputs": []
    }
  ]
}