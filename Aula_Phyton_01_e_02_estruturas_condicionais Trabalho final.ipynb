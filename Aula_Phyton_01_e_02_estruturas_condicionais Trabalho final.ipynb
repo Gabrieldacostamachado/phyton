{
  "nbformat": 4,
  "nbformat_minor": 0,
  "metadata": {
    "colab": {
      "provenance": [],
      "authorship_tag": "ABX9TyMkV+ItYR3PHrZNaKd6ldRK",
      "include_colab_link": true
    },
    "kernelspec": {
      "name": "python3",
      "display_name": "Python 3"
    },
    "language_info": {
      "name": "python"
    }
  },
  "cells": [
    {
      "cell_type": "markdown",
      "metadata": {
        "id": "view-in-github",
        "colab_type": "text"
      },
      "source": [
        "<a href=\"https://colab.research.google.com/github/Gabrieldacostamachado/phyton/blob/main/Aula_Phyton_01_e_02_estruturas_condicionais%20Trabalho%20final.ipynb\" target=\"_parent\"><img src=\"https://colab.research.google.com/assets/colab-badge.svg\" alt=\"Open In Colab\"/></a>"
      ]
    },
    {
      "cell_type": "code",
      "source": [
        "print (\"Hello World\")"
      ],
      "metadata": {
        "colab": {
          "base_uri": "https://localhost:8080/"
        },
        "id": "8za99V4mAzwC",
        "outputId": "2a7bae8e-b3d7-47e8-b649-3e13c9de49e0"
      },
      "execution_count": null,
      "outputs": [
        {
          "output_type": "stream",
          "name": "stdout",
          "text": [
            "Hello World\n"
          ]
        }
      ]
    },
    {
      "cell_type": "code",
      "source": [
        "x = 10\n",
        "nome ='aluno'\n",
        "nota = 8.5\n",
        "fez_inscricao = True\n",
        "\n"
      ],
      "metadata": {
        "id": "FtfMI-e1A4nD"
      },
      "execution_count": null,
      "outputs": []
    },
    {
      "cell_type": "code",
      "source": [
        "print(type(fez_inscricao))"
      ],
      "metadata": {
        "colab": {
          "base_uri": "https://localhost:8080/"
        },
        "id": "KrpfioSHCJgH",
        "outputId": "91e21969-08b6-448f-a864-6c3239826665"
      },
      "execution_count": null,
      "outputs": [
        {
          "output_type": "stream",
          "name": "stdout",
          "text": [
            "<class 'bool'>\n"
          ]
        }
      ]
    },
    {
      "cell_type": "code",
      "source": [
        "# Campo de preenchimento de nome\n",
        "nome = input(\"Digite seu nome: \")"
      ],
      "metadata": {
        "colab": {
          "base_uri": "https://localhost:8080/"
        },
        "id": "gTBKWyJuEg7V",
        "outputId": "21891c77-4c54-42ec-bb6f-a02014b4dcc7"
      },
      "execution_count": null,
      "outputs": [
        {
          "name": "stdout",
          "output_type": "stream",
          "text": [
            "Digite seu nome: gabriel\n"
          ]
        }
      ]
    },
    {
      "cell_type": "code",
      "source": [
        "# Resultado do campo anterior\n",
        "print(nome)"
      ],
      "metadata": {
        "colab": {
          "base_uri": "https://localhost:8080/"
        },
        "id": "UdHoqyGRFFy2",
        "outputId": "756dd9eb-d2c9-4c7f-ba0a-33f0a8f3f961"
      },
      "execution_count": null,
      "outputs": [
        {
          "output_type": "stream",
          "name": "stdout",
          "text": [
            "gabriel\n"
          ]
        }
      ]
    },
    {
      "cell_type": "code",
      "source": [
        "# Mensagem customizada, utilizando o resultado do campo anterior\n",
        "#F-string\n",
        "print(f\"{nome}, bem-vindo à disciplina de programação. Parabéns pelo seu primeiro hello world\")"
      ],
      "metadata": {
        "colab": {
          "base_uri": "https://localhost:8080/"
        },
        "id": "UrAMu33FRYOD",
        "outputId": "14ad63e5-af5e-409b-dc36-3516495da1b0"
      },
      "execution_count": null,
      "outputs": [
        {
          "output_type": "stream",
          "name": "stdout",
          "text": [
            "gabriel, bem-vindo à disciplina de programação. Parabéns pelo seu primeiro hello world\n"
          ]
        }
      ]
    },
    {
      "cell_type": "code",
      "source": [
        "# Campo de preenchimento de notas\n",
        "Nota_1 = float(input(\"Digite a primeira nota:\"))\n",
        "Nota_2 = float(input(\"Digite a segunda nota:\"))\n",
        "Nota_3 = float(input(\"Digite a terceira nota:\"))\n",
        "Nota_4 = float(input(\"Digite a quarta nota:\"))"
      ],
      "metadata": {
        "colab": {
          "base_uri": "https://localhost:8080/"
        },
        "id": "NNYMutE_TTeO",
        "outputId": "6ccacc63-74ef-4d59-e71c-d6ed237ff410"
      },
      "execution_count": null,
      "outputs": [
        {
          "name": "stdout",
          "output_type": "stream",
          "text": [
            "Digite a primeira nota:7.5\n",
            "Digite a segunda nota:8.0\n",
            "Digite a terceira nota:9.5\n",
            "Digite a quarta nota:6.0\n"
          ]
        }
      ]
    },
    {
      "cell_type": "code",
      "source": [
        "# Media de notas, levando em consideração o campo anterior\n",
        "media = (Nota_1+Nota_2+Nota_3+Nota_4)/4"
      ],
      "metadata": {
        "id": "pZg-YHxwTjxF"
      },
      "execution_count": null,
      "outputs": []
    },
    {
      "cell_type": "code",
      "source": [
        "# Condição para aprovado e reprovado\n",
        "if media >= 7:\n",
        "    situacao = \"aprovado\"\n",
        "else:\n",
        "    situacao = \"reprovado\""
      ],
      "metadata": {
        "id": "lXobfjIyUFTI"
      },
      "execution_count": null,
      "outputs": []
    },
    {
      "cell_type": "code",
      "source": [
        "# Notas, média e situação do Aluno\n",
        "print(f'A primeira nota é: {Nota_1}')\n",
        "print(f'A segunda nota é: {Nota_2}')\n",
        "print(f'A terceira nota é: {Nota_3}')\n",
        "print(f'A quarta nota é: {Nota_4}')\n",
        "print(f'A média das notas é: {media}')\n",
        "print(f'A situação do aluno é: {situacao}')"
      ],
      "metadata": {
        "colab": {
          "base_uri": "https://localhost:8080/"
        },
        "id": "VIXtJqPqWBam",
        "outputId": "c6f78cf6-9c16-454a-e1c1-dcf270069618"
      },
      "execution_count": null,
      "outputs": [
        {
          "output_type": "stream",
          "name": "stdout",
          "text": [
            "A primeira nota é: 7.5\n",
            "A segunda nota é: 8.0\n",
            "A terceira nota é: 9.5\n",
            "A quarta nota é: 6.0\n",
            "A média das notas é: 7.75\n",
            "A situação do aluno é: aprovado\n"
          ]
        }
      ]
    },
    {
      "cell_type": "code",
      "source": [
        "# Calculo de faixa etária com campo de preenchimento\n",
        "idade = int(input(\"Digite sua idade: \"))\n",
        "if idade < 18:\n",
        "    print(\"Menor de idade\")\n",
        "elif idade >= 18 and idade < 65:\n",
        "    print(\"Maior de idade\")\n",
        "else:\n",
        "    print(\"Idoso\")"
      ],
      "metadata": {
        "colab": {
          "base_uri": "https://localhost:8080/"
        },
        "id": "E7ePFvigWmTA",
        "outputId": "0533f6fe-13a4-4075-a030-6409b81b8d06"
      },
      "execution_count": null,
      "outputs": [
        {
          "output_type": "stream",
          "name": "stdout",
          "text": [
            "Digite sua idade: 12\n",
            "Menor de idade\n"
          ]
        }
      ]
    },
    {
      "cell_type": "code",
      "source": [
        "# Exercício Cinema, com faixa etária e indicação de filmes com disponibilidade de ingressos\n",
        "idade = int(input(\"Digite sua idade: \"))\n",
        "if idade < 12:\n",
        "    print(\"Filme infantil\")\n",
        "elif idade >= 12 and idade < 18:\n",
        "    print(\"Filme de comédia\")\n",
        "else:\n",
        "    print(\"Filme de Romance\")\n",
        "\n",
        "# Quantidade de ingressos desejados\n",
        "ingressos = int(input(\"Qual a quantidade de ingressos desejada:\"))\n",
        "if ingressos == 0:\n",
        "    print(\"Quantidade invalida\")\n",
        "elif ingressos >= 1 and ingressos <= 4:\n",
        "    print(\"Compra efetuada com sucesso\")\n",
        "else:\n",
        "    print(\"Quantidade acima do permitido\")"
      ],
      "metadata": {
        "colab": {
          "base_uri": "https://localhost:8080/"
        },
        "id": "d1wePg16E1Ca",
        "outputId": "ab2b4cb5-c572-425e-f5c0-8de7f1b50233"
      },
      "execution_count": null,
      "outputs": [
        {
          "output_type": "stream",
          "name": "stdout",
          "text": [
            "Digite sua idade: 11\n",
            "Filme infantil\n",
            "Qual a quantidade de ingressos desejada:5\n",
            "Quantidade acima do permitido\n"
          ]
        }
      ]
    },
    {
      "cell_type": "code",
      "source": [
        "# Teste com condicionais diferentes, combinadas em uma estrutura condicional\n",
        "idade = int(input(\"Digite sua idade: \"))\n",
        "termos = str(input(\"Você aceita os termos de uso? \"))\n",
        "if idade < 18:\n",
        "    print(\"Usuário menor de idade! Solicite autorização de um responsável\")\n",
        "elif idade >= 18 and termos == \"sim\":\n",
        "    print(\"Autorização concedida\")\n",
        "elif idade >= 18 and termos == \"não\":\n",
        "    print(\"Autorização negada\")\n",
        "else:\n",
        "    print(\"Preenchimento incorreto, revise os dados\")"
      ],
      "metadata": {
        "colab": {
          "base_uri": "https://localhost:8080/"
        },
        "id": "fc0m38mGJgIw",
        "outputId": "31706e10-9c5c-4fd0-c9ef-1966e87f9a4c"
      },
      "execution_count": null,
      "outputs": [
        {
          "output_type": "stream",
          "name": "stdout",
          "text": [
            "Digite sua idade: 19\n",
            "Você aceita os termos de uso? talves\n",
            "Preenchimento incorreto, revise os dados\n"
          ]
        }
      ]
    },
    {
      "cell_type": "code",
      "source": [
        "#teste notas\n",
        "\n",
        "Nota_1 = int(input(\"Digite a primeira nota:\"))\n",
        "Nota_2 = int(input(\"Digite a segunda nota:\"))\n",
        "Nota_3 = int(input(\"Digite a terceira nota:\"))\n",
        "Nota_4 = int(input(\"Digite a quarta nota:\"))\n",
        "\n",
        "print(f'A primeira nota é: {Nota_1}')\n",
        "print(f'A segunda nota é: {Nota_2}')\n",
        "print(f'A terceira nota é: {Nota_3}')\n",
        "print(f'A quarta nota é: {Nota_4}')"
      ],
      "metadata": {
        "colab": {
          "base_uri": "https://localhost:8080/"
        },
        "id": "Y5EPUshuSYvu",
        "outputId": "45ce6e48-f57f-44a2-9be1-827251b4b8eb"
      },
      "execution_count": null,
      "outputs": [
        {
          "output_type": "stream",
          "name": "stdout",
          "text": [
            "Digite a primeira nota:5\n",
            "Digite a segunda nota:6\n",
            "Digite a terceira nota:7\n",
            "Digite a quarta nota:8\n",
            "A primeira nota é: 5\n",
            "A segunda nota é: 6\n",
            "A terceira nota é: 7\n",
            "A quarta nota é: 8\n"
          ]
        }
      ]
    },
    {
      "cell_type": "code",
      "source": [],
      "metadata": {
        "id": "hkw1XcEhYYZe"
      },
      "execution_count": null,
      "outputs": []
    }
  ]
}