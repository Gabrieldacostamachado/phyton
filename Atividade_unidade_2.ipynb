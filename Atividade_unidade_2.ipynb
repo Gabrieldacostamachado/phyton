{
  "nbformat": 4,
  "nbformat_minor": 0,
  "metadata": {
    "colab": {
      "provenance": [],
      "authorship_tag": "ABX9TyM/ELr7r0MHfu6lKIP6lio1",
      "include_colab_link": true
    },
    "kernelspec": {
      "name": "python3",
      "display_name": "Python 3"
    },
    "language_info": {
      "name": "python"
    }
  },
  "cells": [
    {
      "cell_type": "markdown",
      "metadata": {
        "id": "view-in-github",
        "colab_type": "text"
      },
      "source": [
        "<a href=\"https://colab.research.google.com/github/Gabrieldacostamachado/phyton/blob/main/Atividade_unidade_2.ipynb\" target=\"_parent\"><img src=\"https://colab.research.google.com/assets/colab-badge.svg\" alt=\"Open In Colab\"/></a>"
      ]
    },
    {
      "cell_type": "code",
      "execution_count": null,
      "metadata": {
        "id": "lfo8ulYvImv4"
      },
      "outputs": [],
      "source": [
        "#Você foi contratado para desenvolver um sistema simples de gerenciamento de livros em uma biblioteca. O sistema deve permitir cadastrar novos livros,\n",
        "#listar todos os livros disponíveis, buscar um livro pelo título, e gerar um gráfico com a quantidade de livros por gênero\n",
        "\n",
        "#Passo 1: Definir a classe Livro • Comece definindo a estrutura básica de um livro usando uma classe em Python. Cada livro terá atributos como título, autor, gênero e quantidade disponível. ok\n",
        "#Passo 2: Criar a lista de livros • Inicialize uma lista vazia para armazenar os livros que serão cadastrados. ok\n",
        "#Passo 3: Implementar funções para gerenciar os livros • Função para cadastrar um novo livro 2 • Função para listar todos os livros • Função para buscar um livro pelo título\n",
        "#Passo 4: Utilizar a biblioteca Matplotlib para gerar um gráfico • Instalação da Matplotlib • Gerar o gráfico de quantidade de livros por gênero\n",
        "\n",
        "#Criar uma lista de livros\n"
      ]
    },
    {
      "cell_type": "code",
      "source": [
        "\n",
        "class Livro:\n",
        "    def __init__(self, titulo, autor, genero, quantidade):\n",
        "        self.titulo = titulo\n",
        "        self.autor = autor\n",
        "        self.genero = genero\n",
        "        self.quantidade = quantidade\n",
        "\n",
        "    def __str__(self):\n",
        "        return f\"{self.titulo} por {self.autor} - Gênero: {self.genero}, Quantidade: {self.quantidade}\"\n",
        "\n",
        "# Inicializa uma lista vazia para armazenar os livros\n",
        "lista_de_livros = []\n",
        "\n",
        "def cadastrar_livro():\n",
        "    titulo = input(\"Digite o título do livro: \")\n",
        "    autor = input(\"Digite o autor do livro: \")\n",
        "    genero = input(\"Digite o gênero do livro: \")\n",
        "    quantidade = int(input(\"Digite a quantidade disponível: \"))\n",
        "\n",
        "    livro = Livro(titulo, autor, genero, quantidade)\n",
        "    lista_de_livros.append(livro)\n",
        "    print(\"Livro cadastrado com sucesso!\")\n",
        "\n",
        "def listar_livros():\n",
        "    if not lista_de_livros:\n",
        "        print(\"Nenhum livro cadastrado.\")\n",
        "    else:\n",
        "        print(\"Lista de Livros:\")\n",
        "        for livro in lista_de_livros:\n",
        "            print(livro)\n",
        "\n",
        "def buscar_livro():\n",
        "    titulo = input(\"Digite o título do livro que deseja buscar: \")\n",
        "    encontrado = False\n",
        "    for livro in lista_de_livros:\n",
        "        if livro.titulo.lower() == titulo.lower():\n",
        "            print(\"Livro encontrado:\")\n",
        "            print(livro)\n",
        "            encontrado = True\n",
        "            break\n",
        "    if not encontrado:\n",
        "        print(\"Livro não encontrado.\")\n",
        "\n",
        "# Menu para gerenciar os livros\n",
        "def menu():\n",
        "    while True:\n",
        "        print(\"\\n--- Menu ---\")\n",
        "        print(\"1. Cadastrar livro\")\n",
        "        print(\"2. Listar livros\")\n",
        "        print(\"3. Buscar livro\")\n",
        "        print(\"4. Sair\")\n",
        "\n",
        "        opcao = input(\"Escolha uma opção: \")\n",
        "\n",
        "        if opcao == \"1\":\n",
        "            cadastrar_livro()\n",
        "        elif opcao == \"2\":\n",
        "            listar_livros()\n",
        "        elif opcao == \"3\":\n",
        "            buscar_livro()\n",
        "        elif opcao == \"4\":\n",
        "            print(\"Saindo...\")\n",
        "            break\n",
        "        else:\n",
        "            print(\"Opção inválida, tente novamente.\")\n",
        "\n",
        "# Executa o menu\n",
        "menu()\n",
        "\n"
      ],
      "metadata": {
        "colab": {
          "base_uri": "https://localhost:8080/"
        },
        "id": "dgWRSCJxRSnE",
        "outputId": "108266b4-1b1b-4b99-d7ab-df6dd7041476"
      },
      "execution_count": 19,
      "outputs": [
        {
          "output_type": "stream",
          "name": "stdout",
          "text": [
            "\n",
            "--- Menu ---\n",
            "1. Cadastrar livro\n",
            "2. Listar livros\n",
            "3. Buscar livro\n",
            "4. Sair\n",
            "Escolha uma opção: 1\n",
            "Digite o título do livro: Dom Quixote\n",
            "Digite o autor do livro: Miguel de Cervantes\n",
            "Digite o gênero do livro: Paródia\n",
            "Digite a quantidade disponível: 3\n",
            "Livro cadastrado com sucesso!\n",
            "\n",
            "--- Menu ---\n",
            "1. Cadastrar livro\n",
            "2. Listar livros\n",
            "3. Buscar livro\n",
            "4. Sair\n",
            "Escolha uma opção: 1\n",
            "Digite o título do livro: Orgulho e Preconceito\n",
            "Digite o autor do livro: Jane Austin\n",
            "Digite o gênero do livro: Romance\n",
            "Digite a quantidade disponível: 2\n",
            "Livro cadastrado com sucesso!\n",
            "\n",
            "--- Menu ---\n",
            "1. Cadastrar livro\n",
            "2. Listar livros\n",
            "3. Buscar livro\n",
            "4. Sair\n",
            "Escolha uma opção: 1\n",
            "Digite o título do livro: Dom Casmurro\n",
            "Digite o autor do livro: Machado de Assis\n",
            "Digite o gênero do livro: Romance\n",
            "Digite a quantidade disponível: 4\n",
            "Livro cadastrado com sucesso!\n",
            "\n",
            "--- Menu ---\n",
            "1. Cadastrar livro\n",
            "2. Listar livros\n",
            "3. Buscar livro\n",
            "4. Sair\n",
            "Escolha uma opção: 1\n",
            "Digite o título do livro: O Senhor dos Anéis\n",
            "Digite o autor do livro: J.R.R Tolkien\n",
            "Digite o gênero do livro: Aventura\n",
            "Digite a quantidade disponível: 4\n",
            "Livro cadastrado com sucesso!\n",
            "\n",
            "--- Menu ---\n",
            "1. Cadastrar livro\n",
            "2. Listar livros\n",
            "3. Buscar livro\n",
            "4. Sair\n",
            "Escolha uma opção: 2\n",
            "Lista de Livros:\n",
            "Dom Quixote por Miguel de Cervantes - Gênero: Paródia, Quantidade: 3\n",
            "Orgulho e Preconceito por Jane Austin - Gênero: Romance, Quantidade: 2\n",
            "Dom Casmurro por Machado de Assis - Gênero: Romance, Quantidade: 4\n",
            "O Senhor dos Anéis por J.R.R Tolkien - Gênero: Aventura, Quantidade: 4\n",
            "\n",
            "--- Menu ---\n",
            "1. Cadastrar livro\n",
            "2. Listar livros\n",
            "3. Buscar livro\n",
            "4. Sair\n",
            "Escolha uma opção: 4\n",
            "Saindo...\n"
          ]
        }
      ]
    },
    {
      "cell_type": "code",
      "source": [
        "import matplotlib.pyplot as plt\n",
        "\n",
        "# Função para gerar o gráfico\n",
        "def gerar_grafico():\n",
        "    # Contar a quantidade de livros por gênero\n",
        "    generos = {}\n",
        "    for livro in lista_de_livros:\n",
        "        generos[livro.genero] = generos.get(livro.genero, 0) + livro.quantidade\n",
        "\n",
        "    # Dados para o gráfico\n",
        "    labels = list(generos.keys())\n",
        "    quantidades = list(generos.values())\n",
        "\n",
        "    # Criar o gráfico de barras\n",
        "    plt.figure(figsize=(10, 6))\n",
        "    plt.bar(labels, quantidades, color='skyblue')\n",
        "    plt.xlabel('Gênero')\n",
        "    plt.ylabel('Quantidade de Livros')\n",
        "    plt.title('Quantidade de Livros por Gênero')\n",
        "    plt.xticks(rotation=45)\n",
        "    plt.tight_layout()\n",
        "    plt.show()\n",
        "\n",
        "# Chamar a função para gerar o gráfico\n",
        "gerar_grafico()"
      ],
      "metadata": {
        "colab": {
          "base_uri": "https://localhost:8080/",
          "height": 607
        },
        "id": "tC3A2HVUV18C",
        "outputId": "8038a61f-3f57-4f1a-9b27-b02c87a9298d"
      },
      "execution_count": 22,
      "outputs": [
        {
          "output_type": "display_data",
          "data": {
            "text/plain": [
              "<Figure size 1000x600 with 1 Axes>"
            ],
            "image/png": "[encoded data removed]"
          },
          "metadata": {}
        }
      ]
    },
    {
      "cell_type": "code",
      "source": [],
      "metadata": {
        "id": "W3FtVjJKYj4p"
      },
      "execution_count": null,
      "outputs": []
    }
  ]
}