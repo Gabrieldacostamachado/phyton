{
  "nbformat": 4,
  "nbformat_minor": 0,
  "metadata": {
    "colab": {
      "provenance": [],
      "authorship_tag": "ABX9TyP3o2/RYGUWk3DiM/ilpAgb",
      "include_colab_link": true
    },
    "kernelspec": {
      "name": "python3",
      "display_name": "Python 3"
    },
    "language_info": {
      "name": "python"
    }
  },
  "cells": [
    {
      "cell_type": "markdown",
      "metadata": {
        "id": "view-in-github",
        "colab_type": "text"
      },
      "source": [
        "<a href=\"https://colab.research.google.com/github/Gabrieldacostamachado/phyton/blob/main/Estrutura_de_dados_em_phyton_materia_2_objetos_sequencia%2C_tuplas%2C_listas%2C_array_numpy%2C_mapping%2C_set_e_exercicio_final.ipynb\" target=\"_parent\"><img src=\"https://colab.research.google.com/assets/colab-badge.svg\" alt=\"Open In Colab\"/></a>"
      ]
    },
    {
      "cell_type": "code",
      "execution_count": null,
      "metadata": {
        "colab": {
          "base_uri": "https://localhost:8080/"
        },
        "id": "x4_dEN34Gzr4",
        "outputId": "b5bb903a-59ad-4ec0-901f-b2fc90697acf"
      },
      "outputs": [
        {
          "output_type": "stream",
          "name": "stdout",
          "text": [
            "Tamanho do texto = 65\n",
            "Python in texto = True\n",
            "Quantidade de E no texto = 5\n",
            "As 5 primeiras letras são: Explo\n"
          ]
        }
      ],
      "source": [
        "# Aula unidade 2 Phyton,\n",
        "#Objetos do tipo de sequencia\n",
        "\n",
        "texto = \"Explorando a diversidade de linguagens de programação com Python.\"\n",
        "#len = comprimento do ()\n",
        "print(f\"Tamanho do texto = {len(texto)}\")\n",
        "#in = True caso encontre '' no ()\n",
        "print(f\"Python in texto = {'Python' in texto}\")\n",
        "#texto.count = Conta a quantidade de ('') no código mencionado\n",
        "print(f\"Quantidade de E no texto = {texto.count('e')}\")\n",
        "#:5 = Informa as primeiras letras da string selecionada {[:5]}\n",
        "print(f\"As 5 primeiras letras são: {texto[:5]}\")\n",
        "\n"
      ]
    },
    {
      "cell_type": "code",
      "source": [
        "#Informa o elemento selecionado, começando sempre em 0, e terminando em n-1 Ex. 65 - 1 = 64\n",
        "texto[64]"
      ],
      "metadata": {
        "colab": {
          "base_uri": "https://localhost:8080/",
          "height": 36
        },
        "id": "nGFyY0ffKzFh",
        "outputId": "54ac6a60-2ff9-4f75-b17e-b2c58daa3d84"
      },
      "execution_count": null,
      "outputs": [
        {
          "output_type": "execute_result",
          "data": {
            "text/plain": [
              "'.'"
            ],
            "application/vnd.google.colaboratory.intrinsic+json": {
              "type": "string"
            }
          },
          "metadata": {},
          "execution_count": 20
        }
      ]
    },
    {
      "cell_type": "code",
      "source": [
        "#Listas\n",
        "\n",
        "cores = ['Vermelho', 'Amarelo', 'Azul', 'Branco', 'Preto']\n",
        "for cor in cores:\n",
        "    print(f\"Posição = {cores.index(cor)}, cor = {cor}\")"
      ],
      "metadata": {
        "colab": {
          "base_uri": "https://localhost:8080/"
        },
        "id": "aAgzfPyWLa1D",
        "outputId": "2a4377fb-babd-4b5f-dfd9-75837df9ddc5"
      },
      "execution_count": null,
      "outputs": [
        {
          "output_type": "stream",
          "name": "stdout",
          "text": [
            "Posição = 0, cor = Vermelho\n",
            "Posição = 1, cor = Amarelo\n",
            "Posição = 2, cor = Azul\n",
            "Posição = 3, cor = Branco\n",
            "Posição = 4, cor = Preto\n"
          ]
        }
      ]
    },
    {
      "cell_type": "code",
      "source": [
        "#listcomps = Listas criadas a apartir de uma lista antiga, com as informações esejadas]\n",
        "linguagens = ['Javascript', 'Python', 'C#', 'Java', 'C++', 'Swift', 'C', 'Go', 'Kothlin']\n",
        "print(\"Antes da listcomp = \", linguagens)\n",
        "#A lista linguagens, a baixo sofre uma alteração passando todas as letras para minúsculo, criando uma nova lista com base na anterior\n",
        "linguagens = {item.lower() for item in linguagens}\n",
        "# O \\n representa que o resultado do código, ira oara uma nova linha.\n",
        "print(\"\\nDepois da listcomp = \", linguagens)"
      ],
      "metadata": {
        "colab": {
          "base_uri": "https://localhost:8080/"
        },
        "id": "H4RaURvMNOWZ",
        "outputId": "579d271e-87ac-4dd4-d44d-b2e8966763f0"
      },
      "execution_count": null,
      "outputs": [
        {
          "output_type": "stream",
          "name": "stdout",
          "text": [
            "Antes da listcomp =  ['Javascript', 'Python', 'C#', 'Java', 'C++', 'Swift', 'C', 'Go', 'Kothlin']\n",
            "\n",
            "Depois da listcomp =  {'javascript', 'kothlin', 'java', 'python', 'c#', 'c', 'go', 'c++', 'swift'}\n"
          ]
        }
      ]
    },
    {
      "cell_type": "code",
      "source": [
        "#Função map\n",
        "#Aplica a função em todo a sequencia\n",
        "#map(função,sequencia)\n",
        "\n",
        "#Em listas, numeros não vao entre '', somente as strings ex 'verde', 'amarelo'\n",
        "precos_em_dolares = [100, 50, 75, 120]\n",
        "taxa_de_cambio = 5.25\n",
        "precos_em_reais = list(map(lambda x: x * taxa_de_cambio, precos_em_dolares))\n",
        "print(precos_em_reais)"
      ],
      "metadata": {
        "colab": {
          "base_uri": "https://localhost:8080/"
        },
        "id": "NwBvzhQiQIYm",
        "outputId": "c9b59894-570c-4de9-bcbf-27ffd05475bc"
      },
      "execution_count": null,
      "outputs": [
        {
          "output_type": "stream",
          "name": "stdout",
          "text": [
            "[525.0, 262.5, 393.75, 630.0]\n"
          ]
        }
      ]
    },
    {
      "cell_type": "code",
      "source": [
        "#Função filter\n",
        "#Filtra os elementos de uma sequencia com base em uma função teste (retorna true or false)\n",
        "#filter(funcao_teste, sequencia)\n",
        "\n",
        "numeros = [1, 2, 3, 4, 5, 6, 7, 8, 9, 10]\n",
        "numeros_pares = list(filter(lambda x: x % 2 == 0, numeros))\n",
        "print(numeros_pares)\n"
      ],
      "metadata": {
        "colab": {
          "base_uri": "https://localhost:8080/"
        },
        "id": "5b7tFY7sTKqr",
        "outputId": "ebe1249b-16c9-4a6d-e176-e2da6ea0c4a5"
      },
      "execution_count": null,
      "outputs": [
        {
          "output_type": "stream",
          "name": "stdout",
          "text": [
            "[2, 4, 6, 8, 10]\n"
          ]
        }
      ]
    },
    {
      "cell_type": "code",
      "source": [
        "#Tuplas = um tipo de lista, imutável, onde não podem haver alterações\n",
        "\n",
        "vogais = ('a', 'e', 'i', 'o', 'u')\n",
        "print(f'Tipo do objeto vogais ={type(vogais)}')\n",
        "for p, x in enumerate(vogais):\n",
        "    print(f'Posição ={p}, valor = {x}')"
      ],
      "metadata": {
        "colab": {
          "base_uri": "https://localhost:8080/"
        },
        "id": "KBU0JyMKUGhW",
        "outputId": "c85af05a-8949-48ea-f0d5-dcfbeb24f130"
      },
      "execution_count": null,
      "outputs": [
        {
          "output_type": "stream",
          "name": "stdout",
          "text": [
            "Tipo do objeto vogais =<class 'tuple'>\n",
            "Posição =0, valor = a\n",
            "Posição =1, valor = e\n",
            "Posição =2, valor = i\n",
            "Posição =3, valor = o\n",
            "Posição =4, valor = u\n"
          ]
        }
      ]
    },
    {
      "cell_type": "code",
      "source": [
        "# Exercício Lista de convidados e confirmdos para evento, lembrando quem deverá ser convidado novamente\n",
        "\n",
        "#Tupla lista de convidados\n",
        "convidados = ('Rogério', 'Ana', 'Beatriz', 'Cesar', 'Lucas', 'Denise', 'Mario', 'Maria')\n",
        "#Lista de confirmados\n",
        "confirmados =('Beatriz', 'Cesar', 'Maria')\n",
        "#Identificar quem ainda não confirmou\n",
        "nao_confirmados = [convidado for convidado in convidados if convidado not in confirmados]\n",
        "\n",
        "#exibir os convidados que ainda não foram confirmados\n",
        "print(\"convidados que ainda não confirmaram:\")\n",
        "for pessoa in nao_confirmados:\n",
        "    print(pessoa)\n",
        "#Enviar lembrete para os não confirmados\n",
        "print(\"\\nEnviar lembrete para os convidados ainda não confirmados\")"
      ],
      "metadata": {
        "colab": {
          "base_uri": "https://localhost:8080/"
        },
        "id": "cbfWB3phXK1_",
        "outputId": "125c78b8-0037-41cb-989a-42e245d50157"
      },
      "execution_count": null,
      "outputs": [
        {
          "output_type": "stream",
          "name": "stdout",
          "text": [
            "convidados que ainda não confirmaram:\n",
            "Rogério\n",
            "Ana\n",
            "Lucas\n",
            "Denise\n",
            "Mario\n",
            "\n",
            "Enviar lembrete para os convidados ainda não confirmados\n"
          ]
        }
      ]
    },
    {
      "cell_type": "code",
      "source": [
        "# Estruturas de dados em Phyton pt 2\n",
        "#Objetos tipo SET\n",
        "#add(), in e remove()\n",
        "#Criada uma lista vazia, que depois ira ter um elemento novo adicionado por código\n",
        "#Lista vazia\n",
        "meu_conjunto = set()\n",
        "\n",
        "meu_conjunto\n"
      ],
      "metadata": {
        "id": "zE5ozdPRZTxt",
        "colab": {
          "base_uri": "https://localhost:8080/"
        },
        "outputId": "8ed9629d-2fae-480e-b120-89e1c3505dd6"
      },
      "execution_count": 1,
      "outputs": [
        {
          "output_type": "execute_result",
          "data": {
            "text/plain": [
              "set()"
            ]
          },
          "metadata": {},
          "execution_count": 1
        }
      ]
    },
    {
      "cell_type": "code",
      "source": [
        "#adcionando elementos ao conjunto\n",
        "meu_conjunto.add(10)\n",
        "meu_conjunto.add(20)\n",
        "meu_conjunto.add(30)\n",
        "\n",
        "#imprimindo o conjunto com os novos elementos\n",
        "print(\"Conjunto após adicionar elementos :\", meu_conjunto)"
      ],
      "metadata": {
        "colab": {
          "base_uri": "https://localhost:8080/"
        },
        "id": "A6hHfkidzGjP",
        "outputId": "6ae69a4a-777c-4f1a-9c94-900c80684233"
      },
      "execution_count": 8,
      "outputs": [
        {
          "output_type": "stream",
          "name": "stdout",
          "text": [
            "Conjunto após adicionar elementos : {10, 20, 30}\n"
          ]
        }
      ]
    },
    {
      "cell_type": "code",
      "source": [
        "#Verificando se o elemento esta no conjunto\n",
        "elemento = 20\n",
        "if elemento in meu_conjunto:\n",
        "    print(f\"{elemento} esta no conjunto\")\n",
        "else:\n",
        "    print(f\"{elemento} não esta no conjunto\")\n"
      ],
      "metadata": {
        "colab": {
          "base_uri": "https://localhost:8080/"
        },
        "id": "v4eFrRKxzpuC",
        "outputId": "5e67f6e2-95fb-4cd1-ec0a-a60e7031fe32"
      },
      "execution_count": 9,
      "outputs": [
        {
          "output_type": "stream",
          "name": "stdout",
          "text": [
            "20 esta no conjunto\n"
          ]
        }
      ]
    },
    {
      "cell_type": "code",
      "source": [
        "#Removendo elemento do conjunto\n",
        "meu_conjunto.remove(20)\n",
        "#Imprimindo novo conjunto atualizado\n",
        "print(\"Conjunto pós remover elemento :\", meu_conjunto)"
      ],
      "metadata": {
        "colab": {
          "base_uri": "https://localhost:8080/"
        },
        "id": "cBgKON_y0Qfg",
        "outputId": "af60ecbb-3de8-4e9b-e024-9633f9702a79"
      },
      "execution_count": 10,
      "outputs": [
        {
          "output_type": "stream",
          "name": "stdout",
          "text": [
            "Conjunto pós remover elemento : {10, 30}\n"
          ]
        }
      ]
    },
    {
      "cell_type": "code",
      "source": [
        "#Ex 1. Criando um dicionario vazio, seguindo de atribuições de chaves e valores\n",
        "\n",
        "dict_1 ={}\n",
        "\n",
        "dict_1['nome'] = \"Maria\"\n",
        "dict_1['idade'] = 25\n",
        "\n",
        "#Ex 2. Criação de um dicionario com pares chave valor\n",
        "dict_2 = {'nome': 'Maria', 'idade': 25}\n",
        "\n",
        "#Ex 3. Criação de um dicionario com uma lista de tuplas representando pares chaves: valor\n",
        "dict_3 = dict([('nome', \"Maria\"), ('idade', 25)])\n",
        "\n",
        "#Ex 4. Criando um dicionario usando a função built-in zip() e duas listas, uma para as chaves e outra para valor\n",
        "dict_4 = dict(zip(['nome', 'idade'], [\"Maria\", 25]))\n",
        "\n",
        "#Teste se todas as execuções retornam objetos iguais\n",
        "print(dict_1 == dict_2 == dict_3 == dict_4) #Deve imprimir true\n",
        "print(dict_1)\n"
      ],
      "metadata": {
        "colab": {
          "base_uri": "https://localhost:8080/"
        },
        "id": "sQV3u0me0gZB",
        "outputId": "8fb657e2-f517-4a9f-975f-99178a7a8a30"
      },
      "execution_count": 16,
      "outputs": [
        {
          "output_type": "stream",
          "name": "stdout",
          "text": [
            "True\n",
            "{'nome': 'Maria', 'idade': 25}\n"
          ]
        }
      ]
    },
    {
      "cell_type": "code",
      "source": [
        "#Importe uma bibliotreca numpy\n",
        "import numpy as np\n",
        "\n",
        "#Crie um array numpy de numeros inteiros\n",
        "my_array = np.array([1, 2, 3, 4, 5])\n",
        "\n"
      ],
      "metadata": {
        "colab": {
          "base_uri": "https://localhost:8080/"
        },
        "id": "SDAHCxV6-QS5",
        "outputId": "0dc66c18-8c34-483d-9c56-5632f2260d93"
      },
      "execution_count": 2,
      "outputs": [
        {
          "output_type": "execute_result",
          "data": {
            "text/plain": [
              "array([1, 2, 3, 4, 5])"
            ]
          },
          "metadata": {},
          "execution_count": 2
        }
      ]
    },
    {
      "cell_type": "code",
      "source": [
        "#Imprima o array\n",
        "print(\"array original:\")\n",
        "print(my_array)"
      ],
      "metadata": {
        "colab": {
          "base_uri": "https://localhost:8080/"
        },
        "id": "Q7cycqyTQ5Ve",
        "outputId": "eae74921-0c40-450d-f4ce-638e76a54185"
      },
      "execution_count": 7,
      "outputs": [
        {
          "output_type": "stream",
          "name": "stdout",
          "text": [
            "array original:\n",
            "[1 2 3 4 5]\n"
          ]
        }
      ]
    },
    {
      "cell_type": "code",
      "source": [
        "#realize operações matematicas com o array\n",
        "squared_array = my_array ** 2 #Eleva ao quadrado\n",
        "sum_of_elements = np.sum(my_array) #Calcula a soma de todos os elementos"
      ],
      "metadata": {
        "id": "BYcJjR5_RJNV"
      },
      "execution_count": 8,
      "outputs": []
    },
    {
      "cell_type": "code",
      "source": [
        "#Imprima os resultados\n",
        "print(\"\\narray ao quadrado:\")\n",
        "print(squared_array)\n",
        "print(\"\\nsoma dos elementos:\")\n",
        "print(sum_of_elements)"
      ],
      "metadata": {
        "colab": {
          "base_uri": "https://localhost:8080/"
        },
        "id": "cOVAJqaMR3uh",
        "outputId": "1421eefd-30f9-4363-fd44-639d35855afe"
      },
      "execution_count": 10,
      "outputs": [
        {
          "output_type": "stream",
          "name": "stdout",
          "text": [
            "\n",
            "array ao quadrado:\n",
            "[ 1  4  9 16 25]\n",
            "\n",
            "soma dos elementos:\n",
            "15\n"
          ]
        }
      ]
    },
    {
      "cell_type": "code",
      "source": [
        "#Acesse os elementos do array\n",
        "element_at_index_2 = my_array[2] #Acessa o elemento indice 2 (A contagem sempre começa do 0 em diante ex.: 0,1,2,3,4,...)\n",
        "print(\"\\nElemento no indice 2:\", element_at_index_2)"
      ],
      "metadata": {
        "colab": {
          "base_uri": "https://localhost:8080/"
        },
        "id": "sNalveFWSOyz",
        "outputId": "b4f0d1bd-4449-4b47-988f-2eb5e42e0073"
      },
      "execution_count": 14,
      "outputs": [
        {
          "output_type": "stream",
          "name": "stdout",
          "text": [
            "\n",
            "Elemento no indice 2: 3\n"
          ]
        }
      ]
    },
    {
      "cell_type": "code",
      "source": [
        "#Exercicio\n",
        "# Estamos gerenciando um eventos com participantes de diferentes regiões do mundo, cada participante forneceu informações como localização, afiliação, instituição de pesquisa e área de interesse\n",
        "#vamos analisar a distribuição Geografica, áreas de interesses e afiliações destes usuarios\n",
        "\n",
        "#Importe as bibliotecas necessárias\n",
        "import numpy as np\n",
        "#Dados dos participantes\n",
        "participantes = [\n",
        "    {\n",
        "        \"nome\": \"Alice\",\n",
        "        \"localizacao\": \"Brasil\",\n",
        "        \"interesses\": [\"Ciência de Dados\", \"Analise de sistemas\"],\n",
        "        \"afiliacao\": \"Universidade Anhanguera\"\n",
        "    },\n",
        "    {\n",
        "        \"nome\": \"Lucas\",\n",
        "        \"localizacao\": \"China\",\n",
        "        \"interesses\": [\"Analise de sistemas\", \"Python\"],\n",
        "        \"afiliacao\": \"Universidade Cesuca\"\n",
        "    },\n",
        "    {\n",
        "        \"nome\": \"Jonas\",\n",
        "        \"localizacao\": \"Uruguai\",\n",
        "        \"interesses\": [\"Ciência de Dados\", \"Analise de sistemas\"],\n",
        "        \"afiliacao\": \"Universidade Uniasselvi\"\n",
        "    },\n",
        "    {\n",
        "        \"nome\": \"Gabriel\",\n",
        "        \"localizacao\": \"Brasil\",\n",
        "        \"interesses\": [\"Analise de sistemas\", \"Python\"],\n",
        "        \"afiliacao\": \"Universidade Anhanguera\"\n",
        "    },\n",
        "    {\n",
        "        \"nome\": \"João\",\n",
        "        \"localizacao\": \"Alemanha\",\n",
        "        \"interesses\": [\"Analise de sistemas\", \"C++\"],\n",
        "        \"afiliacao\": \"Universidade Anhanguera\"\n",
        "    }\n",
        "]\n",
        "\n",
        "#Usando sets para identificar diferentes regiões dos particiantes\n",
        "regioes = set(participante[\"localizacao\"] for participante in participantes)\n",
        "\n",
        "#Usando dicionario para categorizar asafiliações\n",
        "afiliacoes = {}\n",
        "for participante in participantes:\n",
        "    afiliacao = participante[\"afiliacao\"]\n",
        "    if afiliacao not in afiliacoes:\n",
        "        afiliacoes[afiliacao] = []\n",
        "    afiliacoes[afiliacao].append(participante[\"nome\"])\n",
        "\n",
        "#Usando numpy para analisar áreas de interesse\n",
        "\n",
        "areas_de_interesse = np.array([interesse for participante in participantes for interesse in participante[\"interesses\"]])\n",
        "interesses_unicos, contagem = np.unique(areas_de_interesse, return_counts=True)\n",
        "\n",
        "area_mais_popular = interesses_unicos[np.argmax(contagem)]\n",
        "\n",
        "#Resultados\n",
        "print(\"Regiões dos participantes:\", regioes)\n",
        "print(\"Afiliação dos participantes:\")\n",
        "for afiliacao, nomes in afiliacoes.items():\n",
        "   print(f\"{afiliacao}: {', '. join(nomes)}\")\n",
        "print(\"Área de interesse mais popular:\", area_mais_popular)\n"
      ],
      "metadata": {
        "colab": {
          "base_uri": "https://localhost:8080/"
        },
        "id": "hGumudl5SaMv",
        "outputId": "db59e8bd-be22-4e4b-e02c-7081bf6c3a86"
      },
      "execution_count": 8,
      "outputs": [
        {
          "output_type": "stream",
          "name": "stdout",
          "text": [
            "Regiões dos participantes: {'Alemanha', 'Uruguai', 'Brasil', 'China'}\n",
            "Afiliação dos participantes:\n",
            "Universidade Anhanguera: Alice, Gabriel, João\n",
            "Universidade Cesuca: Lucas\n",
            "Universidade Uniasselvi: Jonas\n",
            "Área de interesse mais popular: Analise de sistemas\n"
          ]
        }
      ]
    },
    {
      "cell_type": "code",
      "source": [],
      "metadata": {
        "id": "icQM2DrzqXUz"
      },
      "execution_count": null,
      "outputs": []
    }
  ]
}