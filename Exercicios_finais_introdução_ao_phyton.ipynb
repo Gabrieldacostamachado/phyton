{
  "nbformat": 4,
  "nbformat_minor": 0,
  "metadata": {
    "colab": {
      "provenance": [],
      "authorship_tag": "ABX9TyM0dwGGCDUEcuLeKgDNBVGc",
      "include_colab_link": true
    },
    "kernelspec": {
      "name": "python3",
      "display_name": "Python 3"
    },
    "language_info": {
      "name": "python"
    }
  },
  "cells": [
    {
      "cell_type": "markdown",
      "metadata": {
        "id": "view-in-github",
        "colab_type": "text"
      },
      "source": [
        "<a href=\"https://colab.research.google.com/github/Gabrieldacostamachado/phyton/blob/main/Exercicios_finais_introdu%C3%A7%C3%A3o_ao_phyton.ipynb\" target=\"_parent\"><img src=\"https://colab.research.google.com/assets/colab-badge.svg\" alt=\"Open In Colab\"/></a>"
      ]
    },
    {
      "cell_type": "code",
      "execution_count": 25,
      "metadata": {
        "colab": {
          "base_uri": "https://localhost:8080/"
        },
        "id": "1V4OiUZXMCOP",
        "outputId": "9a23e626-d3f7-417c-da5e-697526808b7f"
      },
      "outputs": [
        {
          "name": "stdout",
          "output_type": "stream",
          "text": [
            "Insira o valor do produto: 100\n"
          ]
        }
      ],
      "source": [
        "# Exercicio aula 5, calculadora de descontos\n",
        "\n",
        "#Inserindo valor do produto, com centavos ou sem\n",
        "\n",
        "valor_produto = float(input(\"Insira o valor do produto: \"))"
      ]
    },
    {
      "cell_type": "code",
      "source": [
        "#Inserindo valor do desconto\n",
        "\n",
        "percentual_desconto = float(input(\"Insira a porcentagem de desconto: \"))"
      ],
      "metadata": {
        "colab": {
          "base_uri": "https://localhost:8080/"
        },
        "id": "yGrn-7SyMWEp",
        "outputId": "0dee6b09-c1d0-4580-f508-2eb2f23f9876"
      },
      "execution_count": 26,
      "outputs": [
        {
          "name": "stdout",
          "output_type": "stream",
          "text": [
            "Insira a porcentagem de desconto: 5\n"
          ]
        }
      ]
    },
    {
      "cell_type": "code",
      "source": [
        "valor_desconto = (percentual_desconto/100) * valor_produto\n",
        "print(valor_desconto)"
      ],
      "metadata": {
        "colab": {
          "base_uri": "https://localhost:8080/"
        },
        "id": "qEYJOkq0Mexc",
        "outputId": "54fceed8-fadd-4e54-cd15-fb750263ae95"
      },
      "execution_count": 27,
      "outputs": [
        {
          "output_type": "stream",
          "name": "stdout",
          "text": [
            "5.0\n"
          ]
        }
      ]
    },
    {
      "cell_type": "code",
      "source": [
        "if percentual_desconto < 0 or percentual_desconto > 20:\n",
        "      print(\"Percentual de desconto deve estar entre 0% até 20%\")\n",
        "else:\n",
        "      valor_venda = valor_produto - valor_desconto\n",
        "      print(f\"Seu desconto foi de R${valor_desconto}, e o Valor final do produto é R${valor_venda}\")"
      ],
      "metadata": {
        "colab": {
          "base_uri": "https://localhost:8080/"
        },
        "id": "lqwzHIhtNL4z",
        "outputId": "5683e021-8a12-4595-e9d6-f97eddb5f995"
      },
      "execution_count": 31,
      "outputs": [
        {
          "output_type": "stream",
          "name": "stdout",
          "text": [
            "Seu desconto foi de R$5.0, e o Valor final do produto é R$95.0\n"
          ]
        }
      ]
    },
    {
      "cell_type": "code",
      "source": [],
      "metadata": {
        "id": "E4flhhhlO3gh"
      },
      "execution_count": null,
      "outputs": []
    }
  ]
}